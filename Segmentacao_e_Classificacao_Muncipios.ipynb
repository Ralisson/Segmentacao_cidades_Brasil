{
 "cells": [
  {
   "cell_type": "markdown",
   "metadata": {
    "extensions": {
     "jupyter_dashboards": {
      "version": 1,
      "views": {
       "grid_default": {},
       "report_default": {
        "hidden": false
       }
      }
     }
    }
   },
   "source": [
    ">> # Projeto de Clusterização de Municípios \n",
    "\n",
    ">> # Ralisson Araujo Ribeiro"
   ]
  },
  {
   "cell_type": "markdown",
   "metadata": {
    "extensions": {
     "jupyter_dashboards": {
      "version": 1,
      "views": {
       "grid_default": {},
       "report_default": {
        "hidden": false
       }
      }
     }
    }
   },
   "source": [
    "\n",
    "Objetivo: \n",
    "\n",
    "\n",
    "- Classificar os municípios brasileiros com base nas informações disponíveis (utilize um algoritmo de \n",
    "- cluster, se julgar necessário). Caracterize os grupos de municípios criado da melhor maneira possível. \n",
    "\n",
    "- Quais grupos de municípios deveriam ser a porta de entrada para empresa no país? Por quê?\n",
    "\n",
    "- Elaborar um modelo de classificação para o cálculo da probabilidade de um determinado município pertencer a um dos grupos criados.\n"
   ]
  },
  {
   "cell_type": "markdown",
   "metadata": {
    "extensions": {
     "jupyter_dashboards": {
      "version": 1,
      "views": {
       "grid_default": {},
       "report_default": {
        "hidden": false
       }
      }
     }
    }
   },
   "source": [
    "> # <font color='blue'> Etapa de clusterização dos municípios</font>"
   ]
  },
  {
   "cell_type": "markdown",
   "metadata": {
    "extensions": {
     "jupyter_dashboards": {
      "version": 1,
      "views": {
       "grid_default": {},
       "report_default": {
        "hidden": false
       }
      }
     }
    }
   },
   "source": [
    "#### Importando dataset e pacotes necessários a análise"
   ]
  },
  {
   "cell_type": "code",
   "execution_count": 2,
   "metadata": {
    "extensions": {
     "jupyter_dashboards": {
      "version": 1,
      "views": {
       "grid_default": {},
       "report_default": {
        "hidden": true
       }
      }
     }
    }
   },
   "outputs": [],
   "source": [
    "import pandas as pd\n",
    "import numpy as np\n",
    "import matplotlib.pyplot as plt\n",
    "from matplotlib import pylab\n",
    "import seaborn as sns\n",
    "from sklearn.cluster import KMeans\n",
    "from sklearn.metrics import homogeneity_completeness_v_measure\n",
    "from sklearn.decomposition import PCA\n",
    "from sklearn.model_selection import train_test_split\n",
    "from scipy.spatial.distance import cdist, pdist\n",
    "from sklearn.metrics import silhouette_score\n",
    "import warnings\n",
    "warnings.filterwarnings(\"ignore\")\n",
    "%matplotlib inline"
   ]
  },
  {
   "cell_type": "code",
   "execution_count": 41,
   "metadata": {},
   "outputs": [
    {
     "name": "stdout",
     "output_type": "stream",
     "text": [
      "Requirement already satisfied: dash in d:\\program_files\\anaconda3\\lib\\site-packages (1.17.0)\n",
      "Requirement already satisfied: future in d:\\program_files\\anaconda3\\lib\\site-packages (from dash) (0.18.2)\n",
      "Requirement already satisfied: dash-core-components==1.13.0 in d:\\program_files\\anaconda3\\lib\\site-packages (from dash) (1.13.0)\n",
      "Requirement already satisfied: dash-html-components==1.1.1 in d:\\program_files\\anaconda3\\lib\\site-packages (from dash) (1.1.1)\n",
      "Requirement already satisfied: Flask>=1.0.2 in d:\\program_files\\anaconda3\\lib\\site-packages (from dash) (1.1.1)\n",
      "Requirement already satisfied: plotly in d:\\program_files\\anaconda3\\lib\\site-packages (from dash) (4.12.0)\n",
      "Requirement already satisfied: dash-renderer==1.8.3 in d:\\program_files\\anaconda3\\lib\\site-packages (from dash) (1.8.3)\n",
      "Requirement already satisfied: dash-table==4.11.0 in d:\\program_files\\anaconda3\\lib\\site-packages (from dash) (4.11.0)\n",
      "Requirement already satisfied: flask-compress in d:\\program_files\\anaconda3\\lib\\site-packages (from dash) (1.8.0)\n",
      "Requirement already satisfied: itsdangerous>=0.24 in d:\\program_files\\anaconda3\\lib\\site-packages (from Flask>=1.0.2->dash) (1.1.0)\n",
      "Requirement already satisfied: Jinja2>=2.10.1 in d:\\program_files\\anaconda3\\lib\\site-packages (from Flask>=1.0.2->dash) (2.11.1)\n",
      "Requirement already satisfied: Werkzeug>=0.15 in d:\\program_files\\anaconda3\\lib\\site-packages (from Flask>=1.0.2->dash) (1.0.0)\n",
      "Requirement already satisfied: click>=5.1 in d:\\program_files\\anaconda3\\lib\\site-packages (from Flask>=1.0.2->dash) (7.0)\n",
      "Requirement already satisfied: six in d:\\program_files\\anaconda3\\lib\\site-packages (from plotly->dash) (1.14.0)\n",
      "Requirement already satisfied: retrying>=1.3.3 in d:\\program_files\\anaconda3\\lib\\site-packages (from plotly->dash) (1.3.3)\n",
      "Requirement already satisfied: brotli in d:\\program_files\\anaconda3\\lib\\site-packages (from flask-compress->dash) (1.0.9)\n",
      "Requirement already satisfied: MarkupSafe>=0.23 in d:\\program_files\\anaconda3\\lib\\site-packages (from Jinja2>=2.10.1->Flask>=1.0.2->dash) (1.1.1)\n",
      "Note: you may need to restart the kernel to use updated packages.\n"
     ]
    }
   ],
   "source": [
    "pip install dash"
   ]
  },
  {
   "cell_type": "code",
   "execution_count": 3,
   "metadata": {
    "extensions": {
     "jupyter_dashboards": {
      "version": 1,
      "views": {
       "grid_default": {},
       "report_default": {
        "hidden": true
       }
      }
     }
    }
   },
   "outputs": [],
   "source": [
    "import dash\n",
    "import dash_core_components as dcc\n",
    "import dash_html_components as html\n",
    "import plotly.graph_objects as go"
   ]
  },
  {
   "cell_type": "code",
   "execution_count": 42,
   "metadata": {},
   "outputs": [],
   "source": []
  },
  {
   "cell_type": "code",
   "execution_count": 4,
   "metadata": {
    "extensions": {
     "jupyter_dashboards": {
      "version": 1,
      "views": {
       "grid_default": {},
       "report_default": {
        "hidden": false
       }
      }
     }
    }
   },
   "outputs": [
    {
     "data": {
      "text/html": [
       "<div>\n",
       "<style scoped>\n",
       "    .dataframe tbody tr th:only-of-type {\n",
       "        vertical-align: middle;\n",
       "    }\n",
       "\n",
       "    .dataframe tbody tr th {\n",
       "        vertical-align: top;\n",
       "    }\n",
       "\n",
       "    .dataframe thead th {\n",
       "        text-align: right;\n",
       "    }\n",
       "</style>\n",
       "<table border=\"1\" class=\"dataframe\">\n",
       "  <thead>\n",
       "    <tr style=\"text-align: right;\">\n",
       "      <th></th>\n",
       "      <th>cod</th>\n",
       "      <th>municipio</th>\n",
       "      <th>area</th>\n",
       "      <th>densidade_demografica</th>\n",
       "      <th>distancia_capital</th>\n",
       "      <th>esperanca_vida</th>\n",
       "      <th>mortalidade</th>\n",
       "      <th>taxa_fec_total</th>\n",
       "      <th>analfabetos_maisde25</th>\n",
       "      <th>renda_percapita</th>\n",
       "      <th>...</th>\n",
       "      <th>tx_alfab</th>\n",
       "      <th>med_anos_estudos</th>\n",
       "      <th>pop_maisde25_1991</th>\n",
       "      <th>pop_maisde25_2000</th>\n",
       "      <th>pop_maisde65_1991</th>\n",
       "      <th>pop_maisde65_2000</th>\n",
       "      <th>pop_total1991</th>\n",
       "      <th>pop_total2000</th>\n",
       "      <th>pop_urbana2000</th>\n",
       "      <th>pop_rural2000</th>\n",
       "    </tr>\n",
       "  </thead>\n",
       "  <tbody>\n",
       "    <tr>\n",
       "      <th>5502</th>\n",
       "      <td>293360</td>\n",
       "      <td>Xique-Xique (BA)</td>\n",
       "      <td>5987.5</td>\n",
       "      <td>7.4</td>\n",
       "      <td>517.2422</td>\n",
       "      <td>55.41</td>\n",
       "      <td>83.11</td>\n",
       "      <td>3.84</td>\n",
       "      <td>37.14</td>\n",
       "      <td>73.31</td>\n",
       "      <td>...</td>\n",
       "      <td>70.69</td>\n",
       "      <td>3.16</td>\n",
       "      <td>14678</td>\n",
       "      <td>17840</td>\n",
       "      <td>1950</td>\n",
       "      <td>2450</td>\n",
       "      <td>40373</td>\n",
       "      <td>44718</td>\n",
       "      <td>31565</td>\n",
       "      <td>13153</td>\n",
       "    </tr>\n",
       "    <tr>\n",
       "      <th>5503</th>\n",
       "      <td>251740</td>\n",
       "      <td>Zabelê (PB)</td>\n",
       "      <td>143.4</td>\n",
       "      <td>12.8</td>\n",
       "      <td>268.3345</td>\n",
       "      <td>60.74</td>\n",
       "      <td>58.40</td>\n",
       "      <td>2.87</td>\n",
       "      <td>42.31</td>\n",
       "      <td>89.61</td>\n",
       "      <td>...</td>\n",
       "      <td>63.05</td>\n",
       "      <td>2.89</td>\n",
       "      <td>816</td>\n",
       "      <td>954</td>\n",
       "      <td>170</td>\n",
       "      <td>170</td>\n",
       "      <td>1728</td>\n",
       "      <td>1853</td>\n",
       "      <td>1186</td>\n",
       "      <td>667</td>\n",
       "    </tr>\n",
       "    <tr>\n",
       "      <th>5504</th>\n",
       "      <td>355715</td>\n",
       "      <td>Zacarias (SP)</td>\n",
       "      <td>319.7</td>\n",
       "      <td>6.1</td>\n",
       "      <td>447.3906</td>\n",
       "      <td>76.02</td>\n",
       "      <td>8.13</td>\n",
       "      <td>2.21</td>\n",
       "      <td>14.77</td>\n",
       "      <td>195.16</td>\n",
       "      <td>...</td>\n",
       "      <td>86.92</td>\n",
       "      <td>4.82</td>\n",
       "      <td>971</td>\n",
       "      <td>1135</td>\n",
       "      <td>100</td>\n",
       "      <td>152</td>\n",
       "      <td>1961</td>\n",
       "      <td>1947</td>\n",
       "      <td>1332</td>\n",
       "      <td>615</td>\n",
       "    </tr>\n",
       "    <tr>\n",
       "      <th>5505</th>\n",
       "      <td>211400</td>\n",
       "      <td>Zé Doca (MA)</td>\n",
       "      <td>2044.4</td>\n",
       "      <td>24.1</td>\n",
       "      <td>186.4669</td>\n",
       "      <td>60.02</td>\n",
       "      <td>61.43</td>\n",
       "      <td>3.33</td>\n",
       "      <td>44.67</td>\n",
       "      <td>77.08</td>\n",
       "      <td>...</td>\n",
       "      <td>65.24</td>\n",
       "      <td>2.89</td>\n",
       "      <td>12848</td>\n",
       "      <td>17631</td>\n",
       "      <td>1450</td>\n",
       "      <td>2302</td>\n",
       "      <td>36524</td>\n",
       "      <td>46134</td>\n",
       "      <td>29082</td>\n",
       "      <td>17052</td>\n",
       "    </tr>\n",
       "    <tr>\n",
       "      <th>5506</th>\n",
       "      <td>421985</td>\n",
       "      <td>Zortéa (SC)</td>\n",
       "      <td>297.8</td>\n",
       "      <td>8.8</td>\n",
       "      <td>296.6572</td>\n",
       "      <td>74.40</td>\n",
       "      <td>14.87</td>\n",
       "      <td>2.50</td>\n",
       "      <td>8.08</td>\n",
       "      <td>211.65</td>\n",
       "      <td>...</td>\n",
       "      <td>92.33</td>\n",
       "      <td>4.86</td>\n",
       "      <td>1005</td>\n",
       "      <td>1310</td>\n",
       "      <td>73</td>\n",
       "      <td>111</td>\n",
       "      <td>2347</td>\n",
       "      <td>2633</td>\n",
       "      <td>2053</td>\n",
       "      <td>580</td>\n",
       "    </tr>\n",
       "  </tbody>\n",
       "</table>\n",
       "<p>5 rows × 25 columns</p>\n",
       "</div>"
      ],
      "text/plain": [
       "         cod         municipio    area  densidade_demografica  \\\n",
       "5502  293360  Xique-Xique (BA)  5987.5                    7.4   \n",
       "5503  251740       Zabelê (PB)   143.4                   12.8   \n",
       "5504  355715     Zacarias (SP)   319.7                    6.1   \n",
       "5505  211400      Zé Doca (MA)  2044.4                   24.1   \n",
       "5506  421985       Zortéa (SC)   297.8                    8.8   \n",
       "\n",
       "      distancia_capital  esperanca_vida  mortalidade  taxa_fec_total  \\\n",
       "5502           517.2422           55.41        83.11            3.84   \n",
       "5503           268.3345           60.74        58.40            2.87   \n",
       "5504           447.3906           76.02         8.13            2.21   \n",
       "5505           186.4669           60.02        61.43            3.33   \n",
       "5506           296.6572           74.40        14.87            2.50   \n",
       "\n",
       "      analfabetos_maisde25  renda_percapita  ...  tx_alfab  med_anos_estudos  \\\n",
       "5502                 37.14            73.31  ...     70.69              3.16   \n",
       "5503                 42.31            89.61  ...     63.05              2.89   \n",
       "5504                 14.77           195.16  ...     86.92              4.82   \n",
       "5505                 44.67            77.08  ...     65.24              2.89   \n",
       "5506                  8.08           211.65  ...     92.33              4.86   \n",
       "\n",
       "      pop_maisde25_1991  pop_maisde25_2000  pop_maisde65_1991  \\\n",
       "5502              14678              17840               1950   \n",
       "5503                816                954                170   \n",
       "5504                971               1135                100   \n",
       "5505              12848              17631               1450   \n",
       "5506               1005               1310                 73   \n",
       "\n",
       "      pop_maisde65_2000  pop_total1991  pop_total2000  pop_urbana2000  \\\n",
       "5502               2450          40373          44718           31565   \n",
       "5503                170           1728           1853            1186   \n",
       "5504                152           1961           1947            1332   \n",
       "5505               2302          36524          46134           29082   \n",
       "5506                111           2347           2633            2053   \n",
       "\n",
       "      pop_rural2000  \n",
       "5502          13153  \n",
       "5503            667  \n",
       "5504            615  \n",
       "5505          17052  \n",
       "5506            580  \n",
       "\n",
       "[5 rows x 25 columns]"
      ]
     },
     "execution_count": 4,
     "metadata": {},
     "output_type": "execute_result"
    }
   ],
   "source": [
    "# Carrega o dataset\n",
    "dados = pd.read_csv('base.csv', delimiter=\";\", decimal=\",\")\n",
    "dados.tail(5)"
   ]
  },
  {
   "cell_type": "markdown",
   "metadata": {
    "extensions": {
     "jupyter_dashboards": {
      "version": 1,
      "views": {
       "grid_default": {},
       "report_default": {
        "hidden": false
       }
      }
     }
    }
   },
   "source": [
    "### Análise exploratória dos dados"
   ]
  },
  {
   "cell_type": "code",
   "execution_count": 5,
   "metadata": {
    "extensions": {
     "jupyter_dashboards": {
      "version": 1,
      "views": {
       "grid_default": {},
       "report_default": {
        "hidden": false
       }
      }
     }
    }
   },
   "outputs": [
    {
     "name": "stdout",
     "output_type": "stream",
     "text": [
      "<class 'pandas.core.frame.DataFrame'>\n",
      "RangeIndex: 5507 entries, 0 to 5506\n",
      "Data columns (total 25 columns):\n",
      " #   Column                 Non-Null Count  Dtype  \n",
      "---  ------                 --------------  -----  \n",
      " 0   cod                    5507 non-null   int64  \n",
      " 1   municipio              5507 non-null   object \n",
      " 2   area                   5507 non-null   float64\n",
      " 3   densidade_demografica  5507 non-null   float64\n",
      " 4   distancia_capital      5507 non-null   float64\n",
      " 5   esperanca_vida         5507 non-null   float64\n",
      " 6   mortalidade            5507 non-null   float64\n",
      " 7   taxa_fec_total         5507 non-null   float64\n",
      " 8   analfabetos_maisde25   5507 non-null   float64\n",
      " 9   renda_percapita        5507 non-null   float64\n",
      " 10  gini                   5507 non-null   float64\n",
      " 11  indigencia             5507 non-null   float64\n",
      " 12  pobreza                5507 non-null   float64\n",
      " 13  idh                    5507 non-null   float64\n",
      " 14  freq_escola            5507 non-null   float64\n",
      " 15  tx_alfab               5507 non-null   float64\n",
      " 16  med_anos_estudos       5507 non-null   float64\n",
      " 17  pop_maisde25_1991      5507 non-null   int64  \n",
      " 18  pop_maisde25_2000      5507 non-null   int64  \n",
      " 19  pop_maisde65_1991      5507 non-null   int64  \n",
      " 20  pop_maisde65_2000      5507 non-null   int64  \n",
      " 21  pop_total1991          5507 non-null   int64  \n",
      " 22  pop_total2000          5507 non-null   int64  \n",
      " 23  pop_urbana2000         5507 non-null   int64  \n",
      " 24  pop_rural2000          5507 non-null   int64  \n",
      "dtypes: float64(15), int64(9), object(1)\n",
      "memory usage: 1.1+ MB\n"
     ]
    }
   ],
   "source": [
    "dados.info()"
   ]
  },
  {
   "cell_type": "code",
   "execution_count": 6,
   "metadata": {
    "extensions": {
     "jupyter_dashboards": {
      "version": 1,
      "views": {
       "grid_default": {},
       "report_default": {
        "hidden": false
       }
      }
     }
    }
   },
   "outputs": [
    {
     "data": {
      "text/plain": [
       "False"
      ]
     },
     "execution_count": 6,
     "metadata": {},
     "output_type": "execute_result"
    }
   ],
   "source": [
    "dados.isnull().values.any()"
   ]
  },
  {
   "cell_type": "code",
   "execution_count": 7,
   "metadata": {
    "extensions": {
     "jupyter_dashboards": {
      "version": 1,
      "views": {
       "grid_default": {},
       "report_default": {
        "hidden": false
       }
      }
     }
    }
   },
   "outputs": [
    {
     "data": {
      "text/plain": [
       "False"
      ]
     },
     "execution_count": 7,
     "metadata": {},
     "output_type": "execute_result"
    }
   ],
   "source": [
    "dados.isna().values.any()"
   ]
  },
  {
   "cell_type": "code",
   "execution_count": 8,
   "metadata": {
    "extensions": {
     "jupyter_dashboards": {
      "version": 1,
      "views": {
       "grid_default": {},
       "report_default": {
        "hidden": false
       }
      }
     }
    }
   },
   "outputs": [
    {
     "data": {
      "text/html": [
       "<div>\n",
       "<style scoped>\n",
       "    .dataframe tbody tr th:only-of-type {\n",
       "        vertical-align: middle;\n",
       "    }\n",
       "\n",
       "    .dataframe tbody tr th {\n",
       "        vertical-align: top;\n",
       "    }\n",
       "\n",
       "    .dataframe thead th {\n",
       "        text-align: right;\n",
       "    }\n",
       "</style>\n",
       "<table border=\"1\" class=\"dataframe\">\n",
       "  <thead>\n",
       "    <tr style=\"text-align: right;\">\n",
       "      <th></th>\n",
       "      <th>cod</th>\n",
       "      <th>municipio</th>\n",
       "      <th>area</th>\n",
       "      <th>densidade_demografica</th>\n",
       "      <th>distancia_capital</th>\n",
       "      <th>esperanca_vida</th>\n",
       "      <th>mortalidade</th>\n",
       "      <th>taxa_fec_total</th>\n",
       "      <th>analfabetos_maisde25</th>\n",
       "      <th>renda_percapita</th>\n",
       "      <th>...</th>\n",
       "      <th>tx_alfab</th>\n",
       "      <th>med_anos_estudos</th>\n",
       "      <th>pop_maisde25_1991</th>\n",
       "      <th>pop_maisde25_2000</th>\n",
       "      <th>pop_maisde65_1991</th>\n",
       "      <th>pop_maisde65_2000</th>\n",
       "      <th>pop_total1991</th>\n",
       "      <th>pop_total2000</th>\n",
       "      <th>pop_urbana2000</th>\n",
       "      <th>pop_rural2000</th>\n",
       "    </tr>\n",
       "  </thead>\n",
       "  <tbody>\n",
       "    <tr>\n",
       "      <th>count</th>\n",
       "      <td>5507.000000</td>\n",
       "      <td>5507</td>\n",
       "      <td>5507.000000</td>\n",
       "      <td>5507.000000</td>\n",
       "      <td>5507.000000</td>\n",
       "      <td>5507.000000</td>\n",
       "      <td>5507.000000</td>\n",
       "      <td>5507.000000</td>\n",
       "      <td>5507.000000</td>\n",
       "      <td>5507.000000</td>\n",
       "      <td>...</td>\n",
       "      <td>5507.000000</td>\n",
       "      <td>5507.000000</td>\n",
       "      <td>5.507000e+03</td>\n",
       "      <td>5.507000e+03</td>\n",
       "      <td>5507.000000</td>\n",
       "      <td>5507.000000</td>\n",
       "      <td>5.507000e+03</td>\n",
       "      <td>5.507000e+03</td>\n",
       "      <td>5.507000e+03</td>\n",
       "      <td>5507.000000</td>\n",
       "    </tr>\n",
       "    <tr>\n",
       "      <th>unique</th>\n",
       "      <td>NaN</td>\n",
       "      <td>5507</td>\n",
       "      <td>NaN</td>\n",
       "      <td>NaN</td>\n",
       "      <td>NaN</td>\n",
       "      <td>NaN</td>\n",
       "      <td>NaN</td>\n",
       "      <td>NaN</td>\n",
       "      <td>NaN</td>\n",
       "      <td>NaN</td>\n",
       "      <td>...</td>\n",
       "      <td>NaN</td>\n",
       "      <td>NaN</td>\n",
       "      <td>NaN</td>\n",
       "      <td>NaN</td>\n",
       "      <td>NaN</td>\n",
       "      <td>NaN</td>\n",
       "      <td>NaN</td>\n",
       "      <td>NaN</td>\n",
       "      <td>NaN</td>\n",
       "      <td>NaN</td>\n",
       "    </tr>\n",
       "    <tr>\n",
       "      <th>top</th>\n",
       "      <td>NaN</td>\n",
       "      <td>Liberato Salzano (RS)</td>\n",
       "      <td>NaN</td>\n",
       "      <td>NaN</td>\n",
       "      <td>NaN</td>\n",
       "      <td>NaN</td>\n",
       "      <td>NaN</td>\n",
       "      <td>NaN</td>\n",
       "      <td>NaN</td>\n",
       "      <td>NaN</td>\n",
       "      <td>...</td>\n",
       "      <td>NaN</td>\n",
       "      <td>NaN</td>\n",
       "      <td>NaN</td>\n",
       "      <td>NaN</td>\n",
       "      <td>NaN</td>\n",
       "      <td>NaN</td>\n",
       "      <td>NaN</td>\n",
       "      <td>NaN</td>\n",
       "      <td>NaN</td>\n",
       "      <td>NaN</td>\n",
       "    </tr>\n",
       "    <tr>\n",
       "      <th>freq</th>\n",
       "      <td>NaN</td>\n",
       "      <td>1</td>\n",
       "      <td>NaN</td>\n",
       "      <td>NaN</td>\n",
       "      <td>NaN</td>\n",
       "      <td>NaN</td>\n",
       "      <td>NaN</td>\n",
       "      <td>NaN</td>\n",
       "      <td>NaN</td>\n",
       "      <td>NaN</td>\n",
       "      <td>...</td>\n",
       "      <td>NaN</td>\n",
       "      <td>NaN</td>\n",
       "      <td>NaN</td>\n",
       "      <td>NaN</td>\n",
       "      <td>NaN</td>\n",
       "      <td>NaN</td>\n",
       "      <td>NaN</td>\n",
       "      <td>NaN</td>\n",
       "      <td>NaN</td>\n",
       "      <td>NaN</td>\n",
       "    </tr>\n",
       "    <tr>\n",
       "      <th>mean</th>\n",
       "      <td>324164.517342</td>\n",
       "      <td>NaN</td>\n",
       "      <td>1549.211476</td>\n",
       "      <td>96.731869</td>\n",
       "      <td>253.212621</td>\n",
       "      <td>67.748925</td>\n",
       "      <td>34.083376</td>\n",
       "      <td>2.864845</td>\n",
       "      <td>26.668411</td>\n",
       "      <td>170.814160</td>\n",
       "      <td>...</td>\n",
       "      <td>78.230626</td>\n",
       "      <td>4.039279</td>\n",
       "      <td>1.221264e+04</td>\n",
       "      <td>1.551693e+04</td>\n",
       "      <td>1286.757581</td>\n",
       "      <td>1804.085709</td>\n",
       "      <td>2.666167e+04</td>\n",
       "      <td>3.083333e+04</td>\n",
       "      <td>2.505066e+04</td>\n",
       "      <td>5782.678591</td>\n",
       "    </tr>\n",
       "    <tr>\n",
       "      <th>std</th>\n",
       "      <td>97977.633891</td>\n",
       "      <td>NaN</td>\n",
       "      <td>5738.392465</td>\n",
       "      <td>524.006185</td>\n",
       "      <td>163.210531</td>\n",
       "      <td>4.860915</td>\n",
       "      <td>18.470551</td>\n",
       "      <td>0.744454</td>\n",
       "      <td>15.164462</td>\n",
       "      <td>96.425347</td>\n",
       "      <td>...</td>\n",
       "      <td>12.460251</td>\n",
       "      <td>1.288171</td>\n",
       "      <td>8.923783e+04</td>\n",
       "      <td>1.039028e+05</td>\n",
       "      <td>9290.633699</td>\n",
       "      <td>12584.258093</td>\n",
       "      <td>1.690004e+05</td>\n",
       "      <td>1.867506e+05</td>\n",
       "      <td>1.800123e+05</td>\n",
       "      <td>10438.887430</td>\n",
       "    </tr>\n",
       "    <tr>\n",
       "      <th>min</th>\n",
       "      <td>110001.000000</td>\n",
       "      <td>NaN</td>\n",
       "      <td>2.900000</td>\n",
       "      <td>0.100000</td>\n",
       "      <td>0.000000</td>\n",
       "      <td>54.350000</td>\n",
       "      <td>5.380000</td>\n",
       "      <td>1.560000</td>\n",
       "      <td>2.020000</td>\n",
       "      <td>28.380000</td>\n",
       "      <td>...</td>\n",
       "      <td>39.340000</td>\n",
       "      <td>0.810000</td>\n",
       "      <td>2.390000e+02</td>\n",
       "      <td>4.220000e+02</td>\n",
       "      <td>17.000000</td>\n",
       "      <td>27.000000</td>\n",
       "      <td>6.180000e+02</td>\n",
       "      <td>7.950000e+02</td>\n",
       "      <td>0.000000e+00</td>\n",
       "      <td>0.000000</td>\n",
       "    </tr>\n",
       "    <tr>\n",
       "      <th>25%</th>\n",
       "      <td>251125.000000</td>\n",
       "      <td>NaN</td>\n",
       "      <td>205.700000</td>\n",
       "      <td>11.300000</td>\n",
       "      <td>121.858900</td>\n",
       "      <td>64.530000</td>\n",
       "      <td>18.640000</td>\n",
       "      <td>2.320000</td>\n",
       "      <td>13.970000</td>\n",
       "      <td>86.495000</td>\n",
       "      <td>...</td>\n",
       "      <td>67.930000</td>\n",
       "      <td>3.010000</td>\n",
       "      <td>2.119500e+03</td>\n",
       "      <td>2.502000e+03</td>\n",
       "      <td>241.000000</td>\n",
       "      <td>330.500000</td>\n",
       "      <td>4.945000e+03</td>\n",
       "      <td>5.152500e+03</td>\n",
       "      <td>2.402500e+03</td>\n",
       "      <td>1843.000000</td>\n",
       "    </tr>\n",
       "    <tr>\n",
       "      <th>50%</th>\n",
       "      <td>314467.000000</td>\n",
       "      <td>NaN</td>\n",
       "      <td>417.200000</td>\n",
       "      <td>23.600000</td>\n",
       "      <td>228.262900</td>\n",
       "      <td>68.240000</td>\n",
       "      <td>29.510000</td>\n",
       "      <td>2.670000</td>\n",
       "      <td>22.600000</td>\n",
       "      <td>159.100000</td>\n",
       "      <td>...</td>\n",
       "      <td>82.040000</td>\n",
       "      <td>4.070000</td>\n",
       "      <td>4.084000e+03</td>\n",
       "      <td>4.930000e+03</td>\n",
       "      <td>483.000000</td>\n",
       "      <td>652.000000</td>\n",
       "      <td>9.748000e+03</td>\n",
       "      <td>1.041800e+04</td>\n",
       "      <td>5.314000e+03</td>\n",
       "      <td>3666.000000</td>\n",
       "    </tr>\n",
       "    <tr>\n",
       "      <th>75%</th>\n",
       "      <td>411655.000000</td>\n",
       "      <td>NaN</td>\n",
       "      <td>1031.450000</td>\n",
       "      <td>48.000000</td>\n",
       "      <td>358.072050</td>\n",
       "      <td>71.440000</td>\n",
       "      <td>46.150000</td>\n",
       "      <td>3.230000</td>\n",
       "      <td>39.780000</td>\n",
       "      <td>232.695000</td>\n",
       "      <td>...</td>\n",
       "      <td>88.340000</td>\n",
       "      <td>4.910000</td>\n",
       "      <td>8.104000e+03</td>\n",
       "      <td>1.004000e+04</td>\n",
       "      <td>988.000000</td>\n",
       "      <td>1321.500000</td>\n",
       "      <td>1.897450e+04</td>\n",
       "      <td>2.135650e+04</td>\n",
       "      <td>1.324050e+04</td>\n",
       "      <td>7223.000000</td>\n",
       "    </tr>\n",
       "    <tr>\n",
       "      <th>max</th>\n",
       "      <td>530010.000000</td>\n",
       "      <td>NaN</td>\n",
       "      <td>161445.900000</td>\n",
       "      <td>12881.400000</td>\n",
       "      <td>1474.314600</td>\n",
       "      <td>78.180000</td>\n",
       "      <td>109.670000</td>\n",
       "      <td>7.790000</td>\n",
       "      <td>70.260000</td>\n",
       "      <td>954.650000</td>\n",
       "      <td>...</td>\n",
       "      <td>99.090000</td>\n",
       "      <td>9.650000</td>\n",
       "      <td>5.106165e+06</td>\n",
       "      <td>5.825893e+06</td>\n",
       "      <td>499880.000000</td>\n",
       "      <td>670780.000000</td>\n",
       "      <td>9.649519e+06</td>\n",
       "      <td>1.043425e+07</td>\n",
       "      <td>9.813187e+06</td>\n",
       "      <td>621065.000000</td>\n",
       "    </tr>\n",
       "  </tbody>\n",
       "</table>\n",
       "<p>11 rows × 25 columns</p>\n",
       "</div>"
      ],
      "text/plain": [
       "                  cod              municipio           area  \\\n",
       "count     5507.000000                   5507    5507.000000   \n",
       "unique            NaN                   5507            NaN   \n",
       "top               NaN  Liberato Salzano (RS)            NaN   \n",
       "freq              NaN                      1            NaN   \n",
       "mean    324164.517342                    NaN    1549.211476   \n",
       "std      97977.633891                    NaN    5738.392465   \n",
       "min     110001.000000                    NaN       2.900000   \n",
       "25%     251125.000000                    NaN     205.700000   \n",
       "50%     314467.000000                    NaN     417.200000   \n",
       "75%     411655.000000                    NaN    1031.450000   \n",
       "max     530010.000000                    NaN  161445.900000   \n",
       "\n",
       "        densidade_demografica  distancia_capital  esperanca_vida  mortalidade  \\\n",
       "count             5507.000000        5507.000000     5507.000000  5507.000000   \n",
       "unique                    NaN                NaN             NaN          NaN   \n",
       "top                       NaN                NaN             NaN          NaN   \n",
       "freq                      NaN                NaN             NaN          NaN   \n",
       "mean                96.731869         253.212621       67.748925    34.083376   \n",
       "std                524.006185         163.210531        4.860915    18.470551   \n",
       "min                  0.100000           0.000000       54.350000     5.380000   \n",
       "25%                 11.300000         121.858900       64.530000    18.640000   \n",
       "50%                 23.600000         228.262900       68.240000    29.510000   \n",
       "75%                 48.000000         358.072050       71.440000    46.150000   \n",
       "max              12881.400000        1474.314600       78.180000   109.670000   \n",
       "\n",
       "        taxa_fec_total  analfabetos_maisde25  renda_percapita  ...  \\\n",
       "count      5507.000000           5507.000000      5507.000000  ...   \n",
       "unique             NaN                   NaN              NaN  ...   \n",
       "top                NaN                   NaN              NaN  ...   \n",
       "freq               NaN                   NaN              NaN  ...   \n",
       "mean          2.864845             26.668411       170.814160  ...   \n",
       "std           0.744454             15.164462        96.425347  ...   \n",
       "min           1.560000              2.020000        28.380000  ...   \n",
       "25%           2.320000             13.970000        86.495000  ...   \n",
       "50%           2.670000             22.600000       159.100000  ...   \n",
       "75%           3.230000             39.780000       232.695000  ...   \n",
       "max           7.790000             70.260000       954.650000  ...   \n",
       "\n",
       "           tx_alfab  med_anos_estudos  pop_maisde25_1991  pop_maisde25_2000  \\\n",
       "count   5507.000000       5507.000000       5.507000e+03       5.507000e+03   \n",
       "unique          NaN               NaN                NaN                NaN   \n",
       "top             NaN               NaN                NaN                NaN   \n",
       "freq            NaN               NaN                NaN                NaN   \n",
       "mean      78.230626          4.039279       1.221264e+04       1.551693e+04   \n",
       "std       12.460251          1.288171       8.923783e+04       1.039028e+05   \n",
       "min       39.340000          0.810000       2.390000e+02       4.220000e+02   \n",
       "25%       67.930000          3.010000       2.119500e+03       2.502000e+03   \n",
       "50%       82.040000          4.070000       4.084000e+03       4.930000e+03   \n",
       "75%       88.340000          4.910000       8.104000e+03       1.004000e+04   \n",
       "max       99.090000          9.650000       5.106165e+06       5.825893e+06   \n",
       "\n",
       "        pop_maisde65_1991  pop_maisde65_2000  pop_total1991  pop_total2000  \\\n",
       "count         5507.000000        5507.000000   5.507000e+03   5.507000e+03   \n",
       "unique                NaN                NaN            NaN            NaN   \n",
       "top                   NaN                NaN            NaN            NaN   \n",
       "freq                  NaN                NaN            NaN            NaN   \n",
       "mean          1286.757581        1804.085709   2.666167e+04   3.083333e+04   \n",
       "std           9290.633699       12584.258093   1.690004e+05   1.867506e+05   \n",
       "min             17.000000          27.000000   6.180000e+02   7.950000e+02   \n",
       "25%            241.000000         330.500000   4.945000e+03   5.152500e+03   \n",
       "50%            483.000000         652.000000   9.748000e+03   1.041800e+04   \n",
       "75%            988.000000        1321.500000   1.897450e+04   2.135650e+04   \n",
       "max         499880.000000      670780.000000   9.649519e+06   1.043425e+07   \n",
       "\n",
       "        pop_urbana2000  pop_rural2000  \n",
       "count     5.507000e+03    5507.000000  \n",
       "unique             NaN            NaN  \n",
       "top                NaN            NaN  \n",
       "freq               NaN            NaN  \n",
       "mean      2.505066e+04    5782.678591  \n",
       "std       1.800123e+05   10438.887430  \n",
       "min       0.000000e+00       0.000000  \n",
       "25%       2.402500e+03    1843.000000  \n",
       "50%       5.314000e+03    3666.000000  \n",
       "75%       1.324050e+04    7223.000000  \n",
       "max       9.813187e+06  621065.000000  \n",
       "\n",
       "[11 rows x 25 columns]"
      ]
     },
     "execution_count": 8,
     "metadata": {},
     "output_type": "execute_result"
    }
   ],
   "source": [
    "dados.describe(include='all')"
   ]
  },
  {
   "cell_type": "code",
   "execution_count": 9,
   "metadata": {
    "extensions": {
     "jupyter_dashboards": {
      "version": 1,
      "views": {
       "grid_default": {},
       "report_default": {
        "hidden": false
       }
      }
     }
    }
   },
   "outputs": [
    {
     "data": {
      "text/plain": [
       "Index(['cod', 'municipio', 'area', 'densidade_demografica',\n",
       "       'distancia_capital', 'esperanca_vida', 'mortalidade', 'taxa_fec_total',\n",
       "       'analfabetos_maisde25', 'renda_percapita', 'gini', 'indigencia',\n",
       "       'pobreza', 'idh', 'freq_escola', 'tx_alfab', 'med_anos_estudos',\n",
       "       'pop_maisde25_1991', 'pop_maisde25_2000', 'pop_maisde65_1991',\n",
       "       'pop_maisde65_2000', 'pop_total1991', 'pop_total2000', 'pop_urbana2000',\n",
       "       'pop_rural2000'],\n",
       "      dtype='object')"
      ]
     },
     "execution_count": 9,
     "metadata": {},
     "output_type": "execute_result"
    }
   ],
   "source": [
    "#vamos guarda essa informação para ser usando poosterioemente\n",
    "dados.columns"
   ]
  },
  {
   "cell_type": "markdown",
   "metadata": {
    "extensions": {
     "jupyter_dashboards": {
      "version": 1,
      "views": {
       "grid_default": {},
       "report_default": {
        "hidden": false
       }
      }
     }
    }
   },
   "source": [
    "### Engenharia de atributos"
   ]
  },
  {
   "cell_type": "code",
   "execution_count": 10,
   "metadata": {
    "extensions": {
     "jupyter_dashboards": {
      "version": 1,
      "views": {
       "grid_default": {},
       "report_default": {
        "hidden": true
       }
      }
     }
    }
   },
   "outputs": [],
   "source": [
    "# Vamos excluir algumas features que consideramos desnecessárias no momento.\n",
    "dados2 = dados.drop(columns=[ 'cod', 'municipio', 'area','pop_total1991', 'pop_maisde65_1991', 'pop_maisde25_1991'], inplace=False)"
   ]
  },
  {
   "cell_type": "code",
   "execution_count": 11,
   "metadata": {
    "extensions": {
     "jupyter_dashboards": {
      "version": 1,
      "views": {
       "grid_default": {},
       "report_default": {
        "hidden": false
       }
      }
     }
    }
   },
   "outputs": [
    {
     "data": {
      "text/html": [
       "<div>\n",
       "<style scoped>\n",
       "    .dataframe tbody tr th:only-of-type {\n",
       "        vertical-align: middle;\n",
       "    }\n",
       "\n",
       "    .dataframe tbody tr th {\n",
       "        vertical-align: top;\n",
       "    }\n",
       "\n",
       "    .dataframe thead th {\n",
       "        text-align: right;\n",
       "    }\n",
       "</style>\n",
       "<table border=\"1\" class=\"dataframe\">\n",
       "  <thead>\n",
       "    <tr style=\"text-align: right;\">\n",
       "      <th></th>\n",
       "      <th>densidade_demografica</th>\n",
       "      <th>distancia_capital</th>\n",
       "      <th>esperanca_vida</th>\n",
       "      <th>mortalidade</th>\n",
       "      <th>taxa_fec_total</th>\n",
       "      <th>analfabetos_maisde25</th>\n",
       "      <th>renda_percapita</th>\n",
       "      <th>gini</th>\n",
       "      <th>indigencia</th>\n",
       "      <th>pobreza</th>\n",
       "      <th>idh</th>\n",
       "      <th>freq_escola</th>\n",
       "      <th>tx_alfab</th>\n",
       "      <th>med_anos_estudos</th>\n",
       "      <th>pop_maisde25_2000</th>\n",
       "      <th>pop_maisde65_2000</th>\n",
       "      <th>pop_total2000</th>\n",
       "      <th>pop_urbana2000</th>\n",
       "      <th>pop_rural2000</th>\n",
       "    </tr>\n",
       "  </thead>\n",
       "  <tbody>\n",
       "    <tr>\n",
       "      <th>count</th>\n",
       "      <td>5507.000000</td>\n",
       "      <td>5507.000000</td>\n",
       "      <td>5507.000000</td>\n",
       "      <td>5507.000000</td>\n",
       "      <td>5507.000000</td>\n",
       "      <td>5507.000000</td>\n",
       "      <td>5507.000000</td>\n",
       "      <td>5507.000000</td>\n",
       "      <td>5507.000000</td>\n",
       "      <td>5507.000000</td>\n",
       "      <td>5507.000000</td>\n",
       "      <td>5507.000000</td>\n",
       "      <td>5507.000000</td>\n",
       "      <td>5507.000000</td>\n",
       "      <td>5.507000e+03</td>\n",
       "      <td>5507.000000</td>\n",
       "      <td>5.507000e+03</td>\n",
       "      <td>5.507000e+03</td>\n",
       "      <td>5507.000000</td>\n",
       "    </tr>\n",
       "    <tr>\n",
       "      <th>mean</th>\n",
       "      <td>96.731869</td>\n",
       "      <td>253.212621</td>\n",
       "      <td>67.748925</td>\n",
       "      <td>34.083376</td>\n",
       "      <td>2.864845</td>\n",
       "      <td>26.668411</td>\n",
       "      <td>170.814160</td>\n",
       "      <td>0.560734</td>\n",
       "      <td>49.786210</td>\n",
       "      <td>47.086060</td>\n",
       "      <td>0.699339</td>\n",
       "      <td>77.966868</td>\n",
       "      <td>78.230626</td>\n",
       "      <td>4.039279</td>\n",
       "      <td>1.551693e+04</td>\n",
       "      <td>1804.085709</td>\n",
       "      <td>3.083333e+04</td>\n",
       "      <td>2.505066e+04</td>\n",
       "      <td>5782.678591</td>\n",
       "    </tr>\n",
       "    <tr>\n",
       "      <th>std</th>\n",
       "      <td>524.006185</td>\n",
       "      <td>163.210531</td>\n",
       "      <td>4.860915</td>\n",
       "      <td>18.470551</td>\n",
       "      <td>0.744454</td>\n",
       "      <td>15.164462</td>\n",
       "      <td>96.425347</td>\n",
       "      <td>0.058663</td>\n",
       "      <td>10.571483</td>\n",
       "      <td>10.732511</td>\n",
       "      <td>0.083485</td>\n",
       "      <td>6.708877</td>\n",
       "      <td>12.460251</td>\n",
       "      <td>1.288171</td>\n",
       "      <td>1.039028e+05</td>\n",
       "      <td>12584.258093</td>\n",
       "      <td>1.867506e+05</td>\n",
       "      <td>1.800123e+05</td>\n",
       "      <td>10438.887430</td>\n",
       "    </tr>\n",
       "    <tr>\n",
       "      <th>min</th>\n",
       "      <td>0.100000</td>\n",
       "      <td>0.000000</td>\n",
       "      <td>54.350000</td>\n",
       "      <td>5.380000</td>\n",
       "      <td>1.560000</td>\n",
       "      <td>2.020000</td>\n",
       "      <td>28.380000</td>\n",
       "      <td>0.360000</td>\n",
       "      <td>0.020000</td>\n",
       "      <td>15.760000</td>\n",
       "      <td>0.467000</td>\n",
       "      <td>44.500000</td>\n",
       "      <td>39.340000</td>\n",
       "      <td>0.810000</td>\n",
       "      <td>4.220000e+02</td>\n",
       "      <td>27.000000</td>\n",
       "      <td>7.950000e+02</td>\n",
       "      <td>0.000000e+00</td>\n",
       "      <td>0.000000</td>\n",
       "    </tr>\n",
       "    <tr>\n",
       "      <th>25%</th>\n",
       "      <td>11.300000</td>\n",
       "      <td>121.858900</td>\n",
       "      <td>64.530000</td>\n",
       "      <td>18.640000</td>\n",
       "      <td>2.320000</td>\n",
       "      <td>13.970000</td>\n",
       "      <td>86.495000</td>\n",
       "      <td>0.520000</td>\n",
       "      <td>42.830000</td>\n",
       "      <td>38.190000</td>\n",
       "      <td>0.630000</td>\n",
       "      <td>73.990000</td>\n",
       "      <td>67.930000</td>\n",
       "      <td>3.010000</td>\n",
       "      <td>2.502000e+03</td>\n",
       "      <td>330.500000</td>\n",
       "      <td>5.152500e+03</td>\n",
       "      <td>2.402500e+03</td>\n",
       "      <td>1843.000000</td>\n",
       "    </tr>\n",
       "    <tr>\n",
       "      <th>50%</th>\n",
       "      <td>23.600000</td>\n",
       "      <td>228.262900</td>\n",
       "      <td>68.240000</td>\n",
       "      <td>29.510000</td>\n",
       "      <td>2.670000</td>\n",
       "      <td>22.600000</td>\n",
       "      <td>159.100000</td>\n",
       "      <td>0.560000</td>\n",
       "      <td>49.510000</td>\n",
       "      <td>46.230000</td>\n",
       "      <td>0.713000</td>\n",
       "      <td>78.400000</td>\n",
       "      <td>82.040000</td>\n",
       "      <td>4.070000</td>\n",
       "      <td>4.930000e+03</td>\n",
       "      <td>652.000000</td>\n",
       "      <td>1.041800e+04</td>\n",
       "      <td>5.314000e+03</td>\n",
       "      <td>3666.000000</td>\n",
       "    </tr>\n",
       "    <tr>\n",
       "      <th>75%</th>\n",
       "      <td>48.000000</td>\n",
       "      <td>358.072050</td>\n",
       "      <td>71.440000</td>\n",
       "      <td>46.150000</td>\n",
       "      <td>3.230000</td>\n",
       "      <td>39.780000</td>\n",
       "      <td>232.695000</td>\n",
       "      <td>0.600000</td>\n",
       "      <td>56.455000</td>\n",
       "      <td>55.410000</td>\n",
       "      <td>0.768000</td>\n",
       "      <td>82.390000</td>\n",
       "      <td>88.340000</td>\n",
       "      <td>4.910000</td>\n",
       "      <td>1.004000e+04</td>\n",
       "      <td>1321.500000</td>\n",
       "      <td>2.135650e+04</td>\n",
       "      <td>1.324050e+04</td>\n",
       "      <td>7223.000000</td>\n",
       "    </tr>\n",
       "    <tr>\n",
       "      <th>max</th>\n",
       "      <td>12881.400000</td>\n",
       "      <td>1474.314600</td>\n",
       "      <td>78.180000</td>\n",
       "      <td>109.670000</td>\n",
       "      <td>7.790000</td>\n",
       "      <td>70.260000</td>\n",
       "      <td>954.650000</td>\n",
       "      <td>0.820000</td>\n",
       "      <td>88.350000</td>\n",
       "      <td>83.030000</td>\n",
       "      <td>0.919000</td>\n",
       "      <td>107.690000</td>\n",
       "      <td>99.090000</td>\n",
       "      <td>9.650000</td>\n",
       "      <td>5.825893e+06</td>\n",
       "      <td>670780.000000</td>\n",
       "      <td>1.043425e+07</td>\n",
       "      <td>9.813187e+06</td>\n",
       "      <td>621065.000000</td>\n",
       "    </tr>\n",
       "  </tbody>\n",
       "</table>\n",
       "</div>"
      ],
      "text/plain": [
       "       densidade_demografica  distancia_capital  esperanca_vida  mortalidade  \\\n",
       "count            5507.000000        5507.000000     5507.000000  5507.000000   \n",
       "mean               96.731869         253.212621       67.748925    34.083376   \n",
       "std               524.006185         163.210531        4.860915    18.470551   \n",
       "min                 0.100000           0.000000       54.350000     5.380000   \n",
       "25%                11.300000         121.858900       64.530000    18.640000   \n",
       "50%                23.600000         228.262900       68.240000    29.510000   \n",
       "75%                48.000000         358.072050       71.440000    46.150000   \n",
       "max             12881.400000        1474.314600       78.180000   109.670000   \n",
       "\n",
       "       taxa_fec_total  analfabetos_maisde25  renda_percapita         gini  \\\n",
       "count     5507.000000           5507.000000      5507.000000  5507.000000   \n",
       "mean         2.864845             26.668411       170.814160     0.560734   \n",
       "std          0.744454             15.164462        96.425347     0.058663   \n",
       "min          1.560000              2.020000        28.380000     0.360000   \n",
       "25%          2.320000             13.970000        86.495000     0.520000   \n",
       "50%          2.670000             22.600000       159.100000     0.560000   \n",
       "75%          3.230000             39.780000       232.695000     0.600000   \n",
       "max          7.790000             70.260000       954.650000     0.820000   \n",
       "\n",
       "        indigencia      pobreza          idh  freq_escola     tx_alfab  \\\n",
       "count  5507.000000  5507.000000  5507.000000  5507.000000  5507.000000   \n",
       "mean     49.786210    47.086060     0.699339    77.966868    78.230626   \n",
       "std      10.571483    10.732511     0.083485     6.708877    12.460251   \n",
       "min       0.020000    15.760000     0.467000    44.500000    39.340000   \n",
       "25%      42.830000    38.190000     0.630000    73.990000    67.930000   \n",
       "50%      49.510000    46.230000     0.713000    78.400000    82.040000   \n",
       "75%      56.455000    55.410000     0.768000    82.390000    88.340000   \n",
       "max      88.350000    83.030000     0.919000   107.690000    99.090000   \n",
       "\n",
       "       med_anos_estudos  pop_maisde25_2000  pop_maisde65_2000  pop_total2000  \\\n",
       "count       5507.000000       5.507000e+03        5507.000000   5.507000e+03   \n",
       "mean           4.039279       1.551693e+04        1804.085709   3.083333e+04   \n",
       "std            1.288171       1.039028e+05       12584.258093   1.867506e+05   \n",
       "min            0.810000       4.220000e+02          27.000000   7.950000e+02   \n",
       "25%            3.010000       2.502000e+03         330.500000   5.152500e+03   \n",
       "50%            4.070000       4.930000e+03         652.000000   1.041800e+04   \n",
       "75%            4.910000       1.004000e+04        1321.500000   2.135650e+04   \n",
       "max            9.650000       5.825893e+06      670780.000000   1.043425e+07   \n",
       "\n",
       "       pop_urbana2000  pop_rural2000  \n",
       "count    5.507000e+03    5507.000000  \n",
       "mean     2.505066e+04    5782.678591  \n",
       "std      1.800123e+05   10438.887430  \n",
       "min      0.000000e+00       0.000000  \n",
       "25%      2.402500e+03    1843.000000  \n",
       "50%      5.314000e+03    3666.000000  \n",
       "75%      1.324050e+04    7223.000000  \n",
       "max      9.813187e+06  621065.000000  "
      ]
     },
     "execution_count": 11,
     "metadata": {},
     "output_type": "execute_result"
    }
   ],
   "source": [
    "dados2.describe()"
   ]
  },
  {
   "cell_type": "code",
   "execution_count": 12,
   "metadata": {
    "extensions": {
     "jupyter_dashboards": {
      "version": 1,
      "views": {
       "grid_default": {},
       "report_default": {
        "hidden": false
       }
      }
     }
    }
   },
   "outputs": [
    {
     "data": {
      "text/html": [
       "<div>\n",
       "<style scoped>\n",
       "    .dataframe tbody tr th:only-of-type {\n",
       "        vertical-align: middle;\n",
       "    }\n",
       "\n",
       "    .dataframe tbody tr th {\n",
       "        vertical-align: top;\n",
       "    }\n",
       "\n",
       "    .dataframe thead th {\n",
       "        text-align: right;\n",
       "    }\n",
       "</style>\n",
       "<table border=\"1\" class=\"dataframe\">\n",
       "  <thead>\n",
       "    <tr style=\"text-align: right;\">\n",
       "      <th></th>\n",
       "      <th>densidade_demografica</th>\n",
       "      <th>distancia_capital</th>\n",
       "      <th>esperanca_vida</th>\n",
       "      <th>mortalidade</th>\n",
       "      <th>taxa_fec_total</th>\n",
       "      <th>analfabetos_maisde25</th>\n",
       "      <th>renda_percapita</th>\n",
       "      <th>gini</th>\n",
       "      <th>indigencia</th>\n",
       "      <th>pobreza</th>\n",
       "      <th>idh</th>\n",
       "      <th>freq_escola</th>\n",
       "      <th>tx_alfab</th>\n",
       "      <th>med_anos_estudos</th>\n",
       "      <th>pop_maisde25_2000</th>\n",
       "      <th>pop_maisde65_2000</th>\n",
       "      <th>pop_total2000</th>\n",
       "      <th>pop_urbana2000</th>\n",
       "      <th>pop_rural2000</th>\n",
       "    </tr>\n",
       "  </thead>\n",
       "  <tbody>\n",
       "    <tr>\n",
       "      <th>analfabetos_maisde25</th>\n",
       "      <td>-0.142469</td>\n",
       "      <td>0.056999</td>\n",
       "      <td>-0.787952</td>\n",
       "      <td>0.830561</td>\n",
       "      <td>0.613018</td>\n",
       "      <td>1.000000</td>\n",
       "      <td>-0.820630</td>\n",
       "      <td>0.349886</td>\n",
       "      <td>0.281716</td>\n",
       "      <td>0.788851</td>\n",
       "      <td>-0.951134</td>\n",
       "      <td>-0.220123</td>\n",
       "      <td>-0.992844</td>\n",
       "      <td>-0.899873</td>\n",
       "      <td>-0.104712</td>\n",
       "      <td>-0.087800</td>\n",
       "      <td>-0.102290</td>\n",
       "      <td>-0.113946</td>\n",
       "      <td>0.134975</td>\n",
       "    </tr>\n",
       "    <tr>\n",
       "      <th>taxa_fec_total</th>\n",
       "      <td>-0.125390</td>\n",
       "      <td>0.101391</td>\n",
       "      <td>-0.559984</td>\n",
       "      <td>0.574160</td>\n",
       "      <td>1.000000</td>\n",
       "      <td>0.613018</td>\n",
       "      <td>-0.601472</td>\n",
       "      <td>0.395471</td>\n",
       "      <td>0.293682</td>\n",
       "      <td>0.663022</td>\n",
       "      <td>-0.662454</td>\n",
       "      <td>-0.269374</td>\n",
       "      <td>-0.603517</td>\n",
       "      <td>-0.620588</td>\n",
       "      <td>-0.093322</td>\n",
       "      <td>-0.085567</td>\n",
       "      <td>-0.087991</td>\n",
       "      <td>-0.099533</td>\n",
       "      <td>0.142244</td>\n",
       "    </tr>\n",
       "    <tr>\n",
       "      <th>renda_percapita</th>\n",
       "      <td>0.226604</td>\n",
       "      <td>-0.066495</td>\n",
       "      <td>0.720068</td>\n",
       "      <td>-0.740418</td>\n",
       "      <td>-0.601472</td>\n",
       "      <td>-0.820630</td>\n",
       "      <td>1.000000</td>\n",
       "      <td>-0.224091</td>\n",
       "      <td>-0.115312</td>\n",
       "      <td>-0.728760</td>\n",
       "      <td>0.889759</td>\n",
       "      <td>0.238492</td>\n",
       "      <td>0.810850</td>\n",
       "      <td>0.883836</td>\n",
       "      <td>0.221073</td>\n",
       "      <td>0.204904</td>\n",
       "      <td>0.217440</td>\n",
       "      <td>0.229319</td>\n",
       "      <td>-0.064493</td>\n",
       "    </tr>\n",
       "  </tbody>\n",
       "</table>\n",
       "</div>"
      ],
      "text/plain": [
       "                      densidade_demografica  distancia_capital  \\\n",
       "analfabetos_maisde25              -0.142469           0.056999   \n",
       "taxa_fec_total                    -0.125390           0.101391   \n",
       "renda_percapita                    0.226604          -0.066495   \n",
       "\n",
       "                      esperanca_vida  mortalidade  taxa_fec_total  \\\n",
       "analfabetos_maisde25       -0.787952     0.830561        0.613018   \n",
       "taxa_fec_total             -0.559984     0.574160        1.000000   \n",
       "renda_percapita             0.720068    -0.740418       -0.601472   \n",
       "\n",
       "                      analfabetos_maisde25  renda_percapita      gini  \\\n",
       "analfabetos_maisde25              1.000000        -0.820630  0.349886   \n",
       "taxa_fec_total                    0.613018        -0.601472  0.395471   \n",
       "renda_percapita                  -0.820630         1.000000 -0.224091   \n",
       "\n",
       "                      indigencia   pobreza       idh  freq_escola  tx_alfab  \\\n",
       "analfabetos_maisde25    0.281716  0.788851 -0.951134    -0.220123 -0.992844   \n",
       "taxa_fec_total          0.293682  0.663022 -0.662454    -0.269374 -0.603517   \n",
       "renda_percapita        -0.115312 -0.728760  0.889759     0.238492  0.810850   \n",
       "\n",
       "                      med_anos_estudos  pop_maisde25_2000  pop_maisde65_2000  \\\n",
       "analfabetos_maisde25         -0.899873          -0.104712          -0.087800   \n",
       "taxa_fec_total               -0.620588          -0.093322          -0.085567   \n",
       "renda_percapita               0.883836           0.221073           0.204904   \n",
       "\n",
       "                      pop_total2000  pop_urbana2000  pop_rural2000  \n",
       "analfabetos_maisde25      -0.102290       -0.113946       0.134975  \n",
       "taxa_fec_total            -0.087991       -0.099533       0.142244  \n",
       "renda_percapita            0.217440        0.229319      -0.064493  "
      ]
     },
     "execution_count": 12,
     "metadata": {},
     "output_type": "execute_result"
    }
   ],
   "source": [
    "# Matriz de Correlação com nomes das variáveis\n",
    "correlations = dados2.corr()\n",
    "correlations = pd.DataFrame(correlations)\n",
    "correlations.sample(3)"
   ]
  },
  {
   "cell_type": "markdown",
   "metadata": {
    "extensions": {
     "jupyter_dashboards": {
      "version": 1,
      "views": {
       "grid_default": {},
       "report_default": {
        "hidden": false
       }
      }
     }
    }
   },
   "source": [
    "Na análise de correlação vamos escluir as colunas de População com mais de 65 anos em 2000 por ter forte correlação com População com mais de 25 anos em 2000.\n",
    "Também vamos excluir as colunas de População Rural e Urbana, mantendo apenas a População Total, pelo mesmo motivo de que são colunas que apresentam colinearidade e isto iria atrapalhar o processo de descisão do algorítimo."
   ]
  },
  {
   "cell_type": "code",
   "execution_count": 13,
   "metadata": {
    "extensions": {
     "jupyter_dashboards": {
      "version": 1,
      "views": {
       "grid_default": {},
       "report_default": {
        "hidden": false
       }
      }
     }
    }
   },
   "outputs": [
    {
     "data": {
      "text/html": [
       "<div>\n",
       "<style scoped>\n",
       "    .dataframe tbody tr th:only-of-type {\n",
       "        vertical-align: middle;\n",
       "    }\n",
       "\n",
       "    .dataframe tbody tr th {\n",
       "        vertical-align: top;\n",
       "    }\n",
       "\n",
       "    .dataframe thead th {\n",
       "        text-align: right;\n",
       "    }\n",
       "</style>\n",
       "<table border=\"1\" class=\"dataframe\">\n",
       "  <thead>\n",
       "    <tr style=\"text-align: right;\">\n",
       "      <th></th>\n",
       "      <th>densidade_demografica</th>\n",
       "      <th>distancia_capital</th>\n",
       "      <th>esperanca_vida</th>\n",
       "      <th>mortalidade</th>\n",
       "      <th>taxa_fec_total</th>\n",
       "      <th>analfabetos_maisde25</th>\n",
       "      <th>renda_percapita</th>\n",
       "      <th>gini</th>\n",
       "      <th>indigencia</th>\n",
       "      <th>pobreza</th>\n",
       "      <th>idh</th>\n",
       "      <th>freq_escola</th>\n",
       "      <th>tx_alfab</th>\n",
       "      <th>med_anos_estudos</th>\n",
       "      <th>pop_maisde25_2000</th>\n",
       "      <th>pop_maisde65_2000</th>\n",
       "      <th>pop_total2000</th>\n",
       "      <th>pop_urbana2000</th>\n",
       "      <th>pop_rural2000</th>\n",
       "    </tr>\n",
       "  </thead>\n",
       "  <tbody>\n",
       "    <tr>\n",
       "      <th>esperanca_vida</th>\n",
       "      <td>0.075292</td>\n",
       "      <td>0.014745</td>\n",
       "      <td>1.000000</td>\n",
       "      <td>-0.950827</td>\n",
       "      <td>-0.559984</td>\n",
       "      <td>-0.787952</td>\n",
       "      <td>0.720068</td>\n",
       "      <td>-0.359076</td>\n",
       "      <td>-0.260686</td>\n",
       "      <td>-0.722592</td>\n",
       "      <td>0.899936</td>\n",
       "      <td>0.151768</td>\n",
       "      <td>0.780581</td>\n",
       "      <td>0.718126</td>\n",
       "      <td>0.049260</td>\n",
       "      <td>0.041389</td>\n",
       "      <td>0.044058</td>\n",
       "      <td>0.053189</td>\n",
       "      <td>-0.129025</td>\n",
       "    </tr>\n",
       "    <tr>\n",
       "      <th>idh</th>\n",
       "      <td>0.145870</td>\n",
       "      <td>-0.028490</td>\n",
       "      <td>0.899936</td>\n",
       "      <td>-0.914143</td>\n",
       "      <td>-0.662454</td>\n",
       "      <td>-0.951134</td>\n",
       "      <td>0.889759</td>\n",
       "      <td>-0.338936</td>\n",
       "      <td>-0.268432</td>\n",
       "      <td>-0.826314</td>\n",
       "      <td>1.000000</td>\n",
       "      <td>0.289532</td>\n",
       "      <td>0.947872</td>\n",
       "      <td>0.907759</td>\n",
       "      <td>0.116307</td>\n",
       "      <td>0.100958</td>\n",
       "      <td>0.112901</td>\n",
       "      <td>0.124943</td>\n",
       "      <td>-0.134778</td>\n",
       "    </tr>\n",
       "    <tr>\n",
       "      <th>tx_alfab</th>\n",
       "      <td>0.138637</td>\n",
       "      <td>-0.041032</td>\n",
       "      <td>0.780581</td>\n",
       "      <td>-0.829463</td>\n",
       "      <td>-0.603517</td>\n",
       "      <td>-0.992844</td>\n",
       "      <td>0.810850</td>\n",
       "      <td>-0.344502</td>\n",
       "      <td>-0.279126</td>\n",
       "      <td>-0.783533</td>\n",
       "      <td>0.947872</td>\n",
       "      <td>0.215483</td>\n",
       "      <td>1.000000</td>\n",
       "      <td>0.888880</td>\n",
       "      <td>0.102275</td>\n",
       "      <td>0.085088</td>\n",
       "      <td>0.099922</td>\n",
       "      <td>0.111579</td>\n",
       "      <td>-0.136522</td>\n",
       "    </tr>\n",
       "    <tr>\n",
       "      <th>med_anos_estudos</th>\n",
       "      <td>0.257012</td>\n",
       "      <td>-0.124662</td>\n",
       "      <td>0.718126</td>\n",
       "      <td>-0.744664</td>\n",
       "      <td>-0.620588</td>\n",
       "      <td>-0.899873</td>\n",
       "      <td>0.883836</td>\n",
       "      <td>-0.262325</td>\n",
       "      <td>-0.161894</td>\n",
       "      <td>-0.716511</td>\n",
       "      <td>0.907759</td>\n",
       "      <td>0.367375</td>\n",
       "      <td>0.888880</td>\n",
       "      <td>1.000000</td>\n",
       "      <td>0.212593</td>\n",
       "      <td>0.189177</td>\n",
       "      <td>0.214712</td>\n",
       "      <td>0.227152</td>\n",
       "      <td>-0.075921</td>\n",
       "    </tr>\n",
       "  </tbody>\n",
       "</table>\n",
       "</div>"
      ],
      "text/plain": [
       "                  densidade_demografica  distancia_capital  esperanca_vida  \\\n",
       "esperanca_vida                 0.075292           0.014745        1.000000   \n",
       "idh                            0.145870          -0.028490        0.899936   \n",
       "tx_alfab                       0.138637          -0.041032        0.780581   \n",
       "med_anos_estudos               0.257012          -0.124662        0.718126   \n",
       "\n",
       "                  mortalidade  taxa_fec_total  analfabetos_maisde25  \\\n",
       "esperanca_vida      -0.950827       -0.559984             -0.787952   \n",
       "idh                 -0.914143       -0.662454             -0.951134   \n",
       "tx_alfab            -0.829463       -0.603517             -0.992844   \n",
       "med_anos_estudos    -0.744664       -0.620588             -0.899873   \n",
       "\n",
       "                  renda_percapita      gini  indigencia   pobreza       idh  \\\n",
       "esperanca_vida           0.720068 -0.359076   -0.260686 -0.722592  0.899936   \n",
       "idh                      0.889759 -0.338936   -0.268432 -0.826314  1.000000   \n",
       "tx_alfab                 0.810850 -0.344502   -0.279126 -0.783533  0.947872   \n",
       "med_anos_estudos         0.883836 -0.262325   -0.161894 -0.716511  0.907759   \n",
       "\n",
       "                  freq_escola  tx_alfab  med_anos_estudos  pop_maisde25_2000  \\\n",
       "esperanca_vida       0.151768  0.780581          0.718126           0.049260   \n",
       "idh                  0.289532  0.947872          0.907759           0.116307   \n",
       "tx_alfab             0.215483  1.000000          0.888880           0.102275   \n",
       "med_anos_estudos     0.367375  0.888880          1.000000           0.212593   \n",
       "\n",
       "                  pop_maisde65_2000  pop_total2000  pop_urbana2000  \\\n",
       "esperanca_vida             0.041389       0.044058        0.053189   \n",
       "idh                        0.100958       0.112901        0.124943   \n",
       "tx_alfab                   0.085088       0.099922        0.111579   \n",
       "med_anos_estudos           0.189177       0.214712        0.227152   \n",
       "\n",
       "                  pop_rural2000  \n",
       "esperanca_vida        -0.129025  \n",
       "idh                   -0.134778  \n",
       "tx_alfab              -0.136522  \n",
       "med_anos_estudos      -0.075921  "
      ]
     },
     "execution_count": 13,
     "metadata": {},
     "output_type": "execute_result"
    }
   ],
   "source": [
    "Renda_per_capita = correlations.query('0.5 < renda_percapita < 1')\n",
    "Renda_per_capita"
   ]
  },
  {
   "cell_type": "markdown",
   "metadata": {
    "extensions": {
     "jupyter_dashboards": {
      "version": 1,
      "views": {
       "grid_default": {},
       "report_default": {
        "hidden": false
       }
      }
     }
    }
   },
   "source": [
    "Na análise de correlação vamos escluir as colunas de População com mais de 65 anos em 2000 por ter forte correlação com População com mais de 25 anos em 2000.\n",
    "Também vamos excluir as colunas de População Rural e Urbana, mantendo apenas a População Total, pelo mesmo motivo de que são colunas que apresentam colinearidade e isto iria atrapalhar o processo de descisão do algorítimo."
   ]
  },
  {
   "cell_type": "code",
   "execution_count": 14,
   "metadata": {
    "extensions": {
     "jupyter_dashboards": {
      "version": 1,
      "views": {
       "grid_default": {},
       "report_default": {
        "hidden": true
       }
      }
     }
    }
   },
   "outputs": [],
   "source": [
    "dados2 = dados2.drop(columns=[ 'pop_rural2000', 'pop_urbana2000', 'pop_maisde65_2000'], inplace=False)"
   ]
  },
  {
   "cell_type": "markdown",
   "metadata": {
    "extensions": {
     "jupyter_dashboards": {
      "version": 1,
      "views": {
       "grid_default": {},
       "report_default": {
        "hidden": false
       }
      }
     }
    }
   },
   "source": [
    "### Padronização dos Dados"
   ]
  },
  {
   "cell_type": "code",
   "execution_count": 15,
   "metadata": {
    "extensions": {
     "jupyter_dashboards": {
      "version": 1,
      "views": {
       "grid_default": {},
       "report_default": {
        "hidden": true
       }
      }
     }
    }
   },
   "outputs": [],
   "source": [
    "#Vamos padronizar colocando os dados com média 0 e desvio padrão igual a 1\n",
    "from sklearn.preprocessing import scale\n",
    "dados2 = scale(dados2)"
   ]
  },
  {
   "cell_type": "markdown",
   "metadata": {
    "extensions": {
     "jupyter_dashboards": {
      "version": 1,
      "views": {
       "grid_default": {},
       "report_default": {
        "hidden": false
       }
      }
     }
    }
   },
   "source": [
    "#### Redução de dimensionalidade de features - PCA"
   ]
  },
  {
   "cell_type": "markdown",
   "metadata": {
    "extensions": {
     "jupyter_dashboards": {
      "version": 1,
      "views": {
       "grid_default": {},
       "report_default": {
        "hidden": false
       }
      }
     }
    }
   },
   "source": [
    "vamos reduzir um pouco mais nosso conjunto de dados, agora com um processo para manter os componentes principais para a análise de atributos"
   ]
  },
  {
   "cell_type": "code",
   "execution_count": 16,
   "metadata": {
    "extensions": {
     "jupyter_dashboards": {
      "version": 1,
      "views": {
       "grid_default": {},
       "report_default": {
        "hidden": true
       }
      }
     }
    }
   },
   "outputs": [],
   "source": [
    "pca = PCA(n_components=5).fit_transform(dados2)"
   ]
  },
  {
   "cell_type": "code",
   "execution_count": 17,
   "metadata": {
    "extensions": {
     "jupyter_dashboards": {
      "version": 1,
      "views": {
       "grid_default": {},
       "report_default": {
        "hidden": false
       }
      }
     }
    }
   },
   "outputs": [
    {
     "data": {
      "text/plain": [
       "(5507, 5)"
      ]
     },
     "execution_count": 17,
     "metadata": {},
     "output_type": "execute_result"
    }
   ],
   "source": [
    "pca.shape"
   ]
  },
  {
   "cell_type": "markdown",
   "metadata": {
    "extensions": {
     "jupyter_dashboards": {
      "version": 1,
      "views": {
       "grid_default": {},
       "report_default": {
        "hidden": false
       }
      }
     }
    }
   },
   "source": [
    "### Criando o modelo de agrupamento com o algorítimo K-means"
   ]
  },
  {
   "cell_type": "markdown",
   "metadata": {
    "extensions": {
     "jupyter_dashboards": {
      "version": 1,
      "views": {
       "grid_default": {},
       "report_default": {
        "hidden": false
       }
      }
     }
    }
   },
   "source": [
    "Vamos primeiro estudar qual seria a melhor divisão de grupos. Vamos detalhar a segmentação dos grupos, centroides e distância entre os centroides para a constução de um gráfico com K agrupamentos(clusters)"
   ]
  },
  {
   "cell_type": "code",
   "execution_count": 18,
   "metadata": {
    "extensions": {
     "jupyter_dashboards": {
      "version": 1,
      "views": {
       "grid_default": {},
       "report_default": {
        "hidden": true
       }
      }
     }
    }
   },
   "outputs": [],
   "source": [
    "#Criando um range de valores\n",
    "k_range = range(2,25)"
   ]
  },
  {
   "cell_type": "code",
   "execution_count": 19,
   "metadata": {
    "extensions": {
     "jupyter_dashboards": {
      "version": 1,
      "views": {
       "grid_default": {},
       "report_default": {
        "hidden": true
       }
      }
     }
    }
   },
   "outputs": [],
   "source": [
    "# Aplicando o modelo K-Means para cada valor de K \n",
    "k_means_var = [KMeans(n_clusters = k).fit(pca) for k in k_range]"
   ]
  },
  {
   "cell_type": "code",
   "execution_count": 20,
   "metadata": {
    "extensions": {
     "jupyter_dashboards": {
      "version": 1,
      "views": {
       "grid_default": {},
       "report_default": {
        "hidden": true
       }
      }
     }
    }
   },
   "outputs": [],
   "source": [
    "# Criando os centroides\n",
    "centroids = [X.cluster_centers_ for X in k_means_var]"
   ]
  },
  {
   "cell_type": "code",
   "execution_count": 21,
   "metadata": {
    "extensions": {
     "jupyter_dashboards": {
      "version": 1,
      "views": {
       "grid_default": {},
       "report_default": {
        "hidden": true
       }
      }
     }
    }
   },
   "outputs": [],
   "source": [
    "# Calculando a distância euclidiana de cada ponto de dado para o centróide\n",
    "k_euclid = [cdist(pca, cent, 'euclidean') for cent in centroids]\n",
    "dist = [np.min(ke, axis = 1) for ke in k_euclid]"
   ]
  },
  {
   "cell_type": "code",
   "execution_count": 22,
   "metadata": {
    "extensions": {
     "jupyter_dashboards": {
      "version": 1,
      "views": {
       "grid_default": {},
       "report_default": {
        "hidden": true
       }
      }
     }
    }
   },
   "outputs": [],
   "source": [
    "# Soma dos quadrados das distâncias dentro do cluster\n",
    "soma_quadrados_intra_cluster = [sum(d**2) for d in dist]"
   ]
  },
  {
   "cell_type": "code",
   "execution_count": 23,
   "metadata": {
    "extensions": {
     "jupyter_dashboards": {
      "version": 1,
      "views": {
       "grid_default": {},
       "report_default": {
        "hidden": true
       }
      }
     }
    }
   },
   "outputs": [],
   "source": [
    "# Soma total dos quadrados\n",
    "soma_total = sum(pdist(pca)**2)/pca.shape[0]"
   ]
  },
  {
   "cell_type": "code",
   "execution_count": 24,
   "metadata": {
    "extensions": {
     "jupyter_dashboards": {
      "version": 1,
      "views": {
       "grid_default": {},
       "report_default": {
        "hidden": true
       }
      }
     }
    }
   },
   "outputs": [],
   "source": [
    "# Soma dos quadrados entre clusters\n",
    "soma_quadrados_inter_cluster = soma_total - soma_quadrados_intra_cluster"
   ]
  },
  {
   "cell_type": "code",
   "execution_count": 25,
   "metadata": {
    "extensions": {
     "jupyter_dashboards": {
      "version": 1,
      "views": {
       "grid_default": {},
       "report_default": {
        "hidden": false
       }
      }
     }
    }
   },
   "outputs": [
    {
     "data": {
      "text/plain": [
       "Text(0.5, 1.0, 'Variância explicada em função de K')"
      ]
     },
     "execution_count": 25,
     "metadata": {},
     "output_type": "execute_result"
    },
    {
     "data": {
      "image/png": "[encoded data removed]",
      "text/plain": [
       "<Figure size 432x288 with 1 Axes>"
      ]
     },
     "metadata": {
      "needs_background": "light"
     },
     "output_type": "display_data"
    }
   ],
   "source": [
    "# Curva de Elbow\n",
    "fig = plt.figure()\n",
    "ax = fig.add_subplot(111)\n",
    "ax.plot(k_range, soma_quadrados_inter_cluster/soma_total * 100, 'b*-')\n",
    "ax.set_ylim((40,100))\n",
    "plt.grid(True)\n",
    "plt.xlabel('Número de Clusters')\n",
    "plt.ylabel('Percentual de Variância Explicada entre clusters')\n",
    "plt.title('Variância explicada em função de K')"
   ]
  },
  {
   "cell_type": "markdown",
   "metadata": {
    "extensions": {
     "jupyter_dashboards": {
      "version": 1,
      "views": {
       "grid_default": {},
       "report_default": {
        "hidden": false
       }
      }
     }
    }
   },
   "source": [
    "#### Métrica para avaliação do modelo de clusterização"
   ]
  },
  {
   "cell_type": "markdown",
   "metadata": {
    "extensions": {
     "jupyter_dashboards": {
      "version": 1,
      "views": {
       "grid_default": {},
       "report_default": {
        "hidden": false
       }
      }
     }
    }
   },
   "source": [
    "Vamos usar a métrica Silhouette que me informa o qual bem os modelos estão separados, explicando quem tem menor variância dentro do grupo e maior variância entre os grupos. Quando mais próximo de 1, melhor.\n",
    "\n",
    "https://en.wikipedia.org/wiki/Silhouette_(clustering)"
   ]
  },
  {
   "cell_type": "code",
   "execution_count": 26,
   "metadata": {
    "extensions": {
     "jupyter_dashboards": {
      "version": 1,
      "views": {
       "grid_default": {},
       "report_default": {
        "hidden": false
       }
      }
     }
    }
   },
   "outputs": [
    {
     "data": {
      "text/plain": [
       "0.28089364355942553"
      ]
     },
     "execution_count": 26,
     "metadata": {},
     "output_type": "execute_result"
    }
   ],
   "source": [
    "# Criando um modelo com K = 5\n",
    "modelo_v1 = KMeans(n_clusters =5)\n",
    "modelo_v1.fit(pca)\n",
    "\n",
    "# Silhouette Score\n",
    "labels = modelo_v1.labels_\n",
    "silhouette_score(pca, labels, metric = 'euclidean')"
   ]
  },
  {
   "cell_type": "code",
   "execution_count": 27,
   "metadata": {
    "extensions": {
     "jupyter_dashboards": {
      "version": 1,
      "views": {
       "grid_default": {},
       "report_default": {
        "hidden": true
       }
      }
     }
    }
   },
   "outputs": [],
   "source": [
    "modelo_final = KMeans(n_clusters=5, random_state=101).fit(pca)"
   ]
  },
  {
   "cell_type": "markdown",
   "metadata": {
    "extensions": {
     "jupyter_dashboards": {
      "version": 1,
      "views": {
       "grid_default": {},
       "report_default": {
        "hidden": false
       }
      }
     }
    }
   },
   "source": [
    "Após alguns testes decidimos usar 8 clusters para o nosso modelo"
   ]
  },
  {
   "cell_type": "markdown",
   "metadata": {
    "extensions": {
     "jupyter_dashboards": {
      "version": 1,
      "views": {
       "grid_default": {},
       "report_default": {
        "hidden": false
       }
      }
     }
    }
   },
   "source": [
    "#### Criando um Cluster Map"
   ]
  },
  {
   "cell_type": "code",
   "execution_count": 28,
   "metadata": {
    "extensions": {
     "jupyter_dashboards": {
      "version": 1,
      "views": {
       "grid_default": {},
       "report_default": {
        "hidden": true
       }
      }
     }
    }
   },
   "outputs": [],
   "source": [
    "# Criando lista de nome das colunas dos dataframe original\n",
    "names = ['cod', 'municipio', 'area', 'densidade_demografica',\n",
    "       'distancia_capital', 'esperanca_vida', 'mortalidade', 'taxa_fec_total',\n",
    "       'analfabetos_maisde25', 'renda_percapita', 'gini', 'indigencia',\n",
    "       'pobreza', 'idh', 'freq_escola', 'tx_alfab', 'med_anos_estudos',\n",
    "       'pop_maisde25_1991', 'pop_maisde25_2000', 'pop_maisde65_1991',\n",
    "       'pop_maisde65_2000', 'pop_total1991', 'pop_total2000', 'pop_urbana2000',\n",
    "       'pop_rural2000']"
   ]
  },
  {
   "cell_type": "code",
   "execution_count": 29,
   "metadata": {
    "extensions": {
     "jupyter_dashboards": {
      "version": 1,
      "views": {
       "grid_default": {},
       "report_default": {
        "hidden": false
       }
      }
     }
    }
   },
   "outputs": [
    {
     "data": {
      "text/plain": [
       "(5507, 26)"
      ]
     },
     "execution_count": 29,
     "metadata": {},
     "output_type": "execute_result"
    }
   ],
   "source": [
    "# Cria o cluster map\n",
    "cluster_map = pd.DataFrame(dados, columns = names)\n",
    "cluster_map['cluster'] = modelo_final.labels_\n",
    "cluster_map.shape"
   ]
  },
  {
   "cell_type": "code",
   "execution_count": 30,
   "metadata": {
    "extensions": {
     "jupyter_dashboards": {
      "version": 1,
      "views": {
       "grid_default": {},
       "report_default": {
        "hidden": false
       }
      }
     }
    }
   },
   "outputs": [
    {
     "data": {
      "text/html": [
       "<div>\n",
       "<style scoped>\n",
       "    .dataframe tbody tr th:only-of-type {\n",
       "        vertical-align: middle;\n",
       "    }\n",
       "\n",
       "    .dataframe tbody tr th {\n",
       "        vertical-align: top;\n",
       "    }\n",
       "\n",
       "    .dataframe thead th {\n",
       "        text-align: right;\n",
       "    }\n",
       "</style>\n",
       "<table border=\"1\" class=\"dataframe\">\n",
       "  <thead>\n",
       "    <tr style=\"text-align: right;\">\n",
       "      <th></th>\n",
       "      <th>cod</th>\n",
       "      <th>municipio</th>\n",
       "      <th>area</th>\n",
       "      <th>densidade_demografica</th>\n",
       "      <th>distancia_capital</th>\n",
       "      <th>esperanca_vida</th>\n",
       "      <th>mortalidade</th>\n",
       "      <th>taxa_fec_total</th>\n",
       "      <th>analfabetos_maisde25</th>\n",
       "      <th>renda_percapita</th>\n",
       "      <th>...</th>\n",
       "      <th>med_anos_estudos</th>\n",
       "      <th>pop_maisde25_1991</th>\n",
       "      <th>pop_maisde25_2000</th>\n",
       "      <th>pop_maisde65_1991</th>\n",
       "      <th>pop_maisde65_2000</th>\n",
       "      <th>pop_total1991</th>\n",
       "      <th>pop_total2000</th>\n",
       "      <th>pop_urbana2000</th>\n",
       "      <th>pop_rural2000</th>\n",
       "      <th>cluster</th>\n",
       "    </tr>\n",
       "  </thead>\n",
       "  <tbody>\n",
       "    <tr>\n",
       "      <th>2145</th>\n",
       "      <td>420710</td>\n",
       "      <td>Ilhota (SC)</td>\n",
       "      <td>245.2</td>\n",
       "      <td>43.0</td>\n",
       "      <td>82.1755</td>\n",
       "      <td>73.97</td>\n",
       "      <td>15.80</td>\n",
       "      <td>2.14</td>\n",
       "      <td>7.39</td>\n",
       "      <td>251.71</td>\n",
       "      <td>...</td>\n",
       "      <td>5.01</td>\n",
       "      <td>4082</td>\n",
       "      <td>5541</td>\n",
       "      <td>415</td>\n",
       "      <td>604</td>\n",
       "      <td>8852</td>\n",
       "      <td>10574</td>\n",
       "      <td>6445</td>\n",
       "      <td>4129</td>\n",
       "      <td>1</td>\n",
       "    </tr>\n",
       "    <tr>\n",
       "      <th>847</th>\n",
       "      <td>110004</td>\n",
       "      <td>Cacoal (RO)</td>\n",
       "      <td>3808.4</td>\n",
       "      <td>19.3</td>\n",
       "      <td>400.7447</td>\n",
       "      <td>69.70</td>\n",
       "      <td>21.27</td>\n",
       "      <td>2.34</td>\n",
       "      <td>15.65</td>\n",
       "      <td>230.05</td>\n",
       "      <td>...</td>\n",
       "      <td>4.80</td>\n",
       "      <td>27469</td>\n",
       "      <td>34135</td>\n",
       "      <td>1720</td>\n",
       "      <td>2813</td>\n",
       "      <td>69725</td>\n",
       "      <td>73568</td>\n",
       "      <td>51398</td>\n",
       "      <td>22170</td>\n",
       "      <td>1</td>\n",
       "    </tr>\n",
       "    <tr>\n",
       "      <th>1197</th>\n",
       "      <td>311560</td>\n",
       "      <td>Cedro do Abaeté (MG)</td>\n",
       "      <td>280.8</td>\n",
       "      <td>4.6</td>\n",
       "      <td>198.3084</td>\n",
       "      <td>73.86</td>\n",
       "      <td>18.14</td>\n",
       "      <td>2.71</td>\n",
       "      <td>23.02</td>\n",
       "      <td>173.06</td>\n",
       "      <td>...</td>\n",
       "      <td>3.93</td>\n",
       "      <td>712</td>\n",
       "      <td>712</td>\n",
       "      <td>83</td>\n",
       "      <td>95</td>\n",
       "      <td>1402</td>\n",
       "      <td>1289</td>\n",
       "      <td>1140</td>\n",
       "      <td>149</td>\n",
       "      <td>1</td>\n",
       "    </tr>\n",
       "    <tr>\n",
       "      <th>878</th>\n",
       "      <td>350920</td>\n",
       "      <td>Cajamar (SP)</td>\n",
       "      <td>128.7</td>\n",
       "      <td>390.4</td>\n",
       "      <td>32.5385</td>\n",
       "      <td>69.21</td>\n",
       "      <td>19.88</td>\n",
       "      <td>2.55</td>\n",
       "      <td>10.22</td>\n",
       "      <td>297.67</td>\n",
       "      <td>...</td>\n",
       "      <td>5.65</td>\n",
       "      <td>13435</td>\n",
       "      <td>24742</td>\n",
       "      <td>746</td>\n",
       "      <td>1691</td>\n",
       "      <td>30757</td>\n",
       "      <td>50761</td>\n",
       "      <td>48084</td>\n",
       "      <td>2677</td>\n",
       "      <td>1</td>\n",
       "    </tr>\n",
       "  </tbody>\n",
       "</table>\n",
       "<p>4 rows × 26 columns</p>\n",
       "</div>"
      ],
      "text/plain": [
       "         cod             municipio    area  densidade_demografica  \\\n",
       "2145  420710           Ilhota (SC)   245.2                   43.0   \n",
       "847   110004           Cacoal (RO)  3808.4                   19.3   \n",
       "1197  311560  Cedro do Abaeté (MG)   280.8                    4.6   \n",
       "878   350920          Cajamar (SP)   128.7                  390.4   \n",
       "\n",
       "      distancia_capital  esperanca_vida  mortalidade  taxa_fec_total  \\\n",
       "2145            82.1755           73.97        15.80            2.14   \n",
       "847            400.7447           69.70        21.27            2.34   \n",
       "1197           198.3084           73.86        18.14            2.71   \n",
       "878             32.5385           69.21        19.88            2.55   \n",
       "\n",
       "      analfabetos_maisde25  renda_percapita  ...  med_anos_estudos  \\\n",
       "2145                  7.39           251.71  ...              5.01   \n",
       "847                  15.65           230.05  ...              4.80   \n",
       "1197                 23.02           173.06  ...              3.93   \n",
       "878                  10.22           297.67  ...              5.65   \n",
       "\n",
       "      pop_maisde25_1991  pop_maisde25_2000  pop_maisde65_1991  \\\n",
       "2145               4082               5541                415   \n",
       "847               27469              34135               1720   \n",
       "1197                712                712                 83   \n",
       "878               13435              24742                746   \n",
       "\n",
       "      pop_maisde65_2000  pop_total1991  pop_total2000  pop_urbana2000  \\\n",
       "2145                604           8852          10574            6445   \n",
       "847                2813          69725          73568           51398   \n",
       "1197                 95           1402           1289            1140   \n",
       "878                1691          30757          50761           48084   \n",
       "\n",
       "      pop_rural2000  cluster  \n",
       "2145           4129        1  \n",
       "847           22170        1  \n",
       "1197            149        1  \n",
       "878            2677        1  \n",
       "\n",
       "[4 rows x 26 columns]"
      ]
     },
     "execution_count": 30,
     "metadata": {},
     "output_type": "execute_result"
    }
   ],
   "source": [
    "cluster_map.sample(4)"
   ]
  },
  {
   "cell_type": "code",
   "execution_count": 31,
   "metadata": {
    "extensions": {
     "jupyter_dashboards": {
      "version": 1,
      "views": {
       "grid_default": {},
       "report_default": {
        "hidden": false
       }
      }
     }
    }
   },
   "outputs": [
    {
     "data": {
      "text/plain": [
       "(5507, 26)"
      ]
     },
     "execution_count": 31,
     "metadata": {},
     "output_type": "execute_result"
    }
   ],
   "source": [
    "cluster_map.shape"
   ]
  },
  {
   "cell_type": "markdown",
   "metadata": {
    "extensions": {
     "jupyter_dashboards": {
      "version": 1,
      "views": {
       "grid_default": {},
       "report_default": {
        "hidden": false
       }
      }
     }
    }
   },
   "source": [
    "Chegamos a um clusterização da base de dados inicial com a mesma contagem de registro."
   ]
  },
  {
   "cell_type": "code",
   "execution_count": 32,
   "metadata": {
    "extensions": {
     "jupyter_dashboards": {
      "version": 1,
      "views": {
       "grid_default": {},
       "report_default": {
        "hidden": true
       }
      }
     }
    }
   },
   "outputs": [],
   "source": [
    "base_cluster = cluster_map.set_index('cluster')"
   ]
  },
  {
   "cell_type": "code",
   "execution_count": 33,
   "metadata": {
    "extensions": {
     "jupyter_dashboards": {
      "version": 1,
      "views": {
       "grid_default": {},
       "report_default": {
        "hidden": false
       }
      }
     }
    }
   },
   "outputs": [
    {
     "data": {
      "text/plain": [
       "cluster\n",
       "0    1741\n",
       "1    2266\n",
       "2       2\n",
       "3      57\n",
       "4    1441\n",
       "Name: cod, dtype: int64"
      ]
     },
     "execution_count": 33,
     "metadata": {},
     "output_type": "execute_result"
    }
   ],
   "source": [
    "# Calcula a contagem de cidades por cluster\n",
    "base_cluster.groupby('cluster')['cod'].count()"
   ]
  },
  {
   "cell_type": "markdown",
   "metadata": {
    "extensions": {
     "jupyter_dashboards": {
      "version": 1,
      "views": {
       "grid_default": {},
       "report_default": {
        "hidden": false
       }
      }
     }
    }
   },
   "source": [
    "#### Gravando a base de dados com os agrupamentos"
   ]
  },
  {
   "cell_type": "code",
   "execution_count": 34,
   "metadata": {
    "extensions": {
     "jupyter_dashboards": {
      "version": 1,
      "views": {
       "grid_default": {},
       "report_default": {
        "hidden": true
       }
      }
     }
    }
   },
   "outputs": [],
   "source": [
    "base_cluster.to_csv('base_cluster.csv')"
   ]
  },
  {
   "cell_type": "markdown",
   "metadata": {
    "extensions": {
     "jupyter_dashboards": {
      "version": 1,
      "views": {
       "grid_default": {},
       "report_default": {
        "hidden": false
       }
      }
     }
    }
   },
   "source": [
    "> # <font color='blue'>Etapa de escolhas dos grupos de munícípios.</font>"
   ]
  },
  {
   "cell_type": "markdown",
   "metadata": {
    "extensions": {
     "jupyter_dashboards": {
      "version": 1,
      "views": {
       "grid_default": {},
       "report_default": {
        "hidden": false
       }
      }
     }
    }
   },
   "source": [
    "Nesta etapa vamos selecionar alguns grupos que deveriam ser a porta de entrada da empresa no Brasil.\n",
    "Apesar de não se saber exatamento o público alvo deste varejo, vamos considerar as melhores indicadores sócios-econômicos para a seleção dos grupos. Posteriomente estes grupos podem ser renomeados, mas para manter a reprodutibilidade do algoritmo, vamos deixar com as nomenclaturas de 0 a 7."
   ]
  },
  {
   "cell_type": "code",
   "execution_count": 35,
   "metadata": {
    "extensions": {
     "jupyter_dashboards": {
      "version": 1,
      "views": {
       "grid_default": {},
       "report_default": {
        "hidden": false
       }
      }
     }
    }
   },
   "outputs": [
    {
     "data": {
      "text/plain": [
       "cluster\n",
       "0    1741\n",
       "1    2266\n",
       "2       2\n",
       "3      57\n",
       "4    1441\n",
       "Name: cod, dtype: int64"
      ]
     },
     "execution_count": 35,
     "metadata": {},
     "output_type": "execute_result"
    }
   ],
   "source": [
    "# Calcula a contagem de cidades por cluster\n",
    "base_cluster.groupby('cluster')['cod'].count()"
   ]
  },
  {
   "cell_type": "markdown",
   "metadata": {
    "extensions": {
     "jupyter_dashboards": {
      "version": 1,
      "views": {
       "grid_default": {},
       "report_default": {
        "hidden": false
       }
      }
     }
    }
   },
   "source": [
    "Vamos identificar alguns grupos que possuem poucos municípios, no caso os grupos 1, 3 e 2"
   ]
  },
  {
   "cell_type": "code",
   "execution_count": 36,
   "metadata": {
    "extensions": {
     "jupyter_dashboards": {
      "version": 1,
      "views": {
       "grid_default": {},
       "report_default": {
        "hidden": false
       }
      }
     }
    }
   },
   "outputs": [
    {
     "data": {
      "text/html": [
       "<div>\n",
       "<style scoped>\n",
       "    .dataframe tbody tr th:only-of-type {\n",
       "        vertical-align: middle;\n",
       "    }\n",
       "\n",
       "    .dataframe tbody tr th {\n",
       "        vertical-align: top;\n",
       "    }\n",
       "\n",
       "    .dataframe thead th {\n",
       "        text-align: right;\n",
       "    }\n",
       "</style>\n",
       "<table border=\"1\" class=\"dataframe\">\n",
       "  <thead>\n",
       "    <tr style=\"text-align: right;\">\n",
       "      <th></th>\n",
       "      <th>cod</th>\n",
       "      <th>municipio</th>\n",
       "      <th>area</th>\n",
       "      <th>densidade_demografica</th>\n",
       "      <th>distancia_capital</th>\n",
       "      <th>esperanca_vida</th>\n",
       "      <th>mortalidade</th>\n",
       "      <th>taxa_fec_total</th>\n",
       "      <th>analfabetos_maisde25</th>\n",
       "      <th>renda_percapita</th>\n",
       "      <th>...</th>\n",
       "      <th>tx_alfab</th>\n",
       "      <th>med_anos_estudos</th>\n",
       "      <th>pop_maisde25_1991</th>\n",
       "      <th>pop_maisde25_2000</th>\n",
       "      <th>pop_maisde65_1991</th>\n",
       "      <th>pop_maisde65_2000</th>\n",
       "      <th>pop_total1991</th>\n",
       "      <th>pop_total2000</th>\n",
       "      <th>pop_urbana2000</th>\n",
       "      <th>pop_rural2000</th>\n",
       "    </tr>\n",
       "    <tr>\n",
       "      <th>cluster</th>\n",
       "      <th></th>\n",
       "      <th></th>\n",
       "      <th></th>\n",
       "      <th></th>\n",
       "      <th></th>\n",
       "      <th></th>\n",
       "      <th></th>\n",
       "      <th></th>\n",
       "      <th></th>\n",
       "      <th></th>\n",
       "      <th></th>\n",
       "      <th></th>\n",
       "      <th></th>\n",
       "      <th></th>\n",
       "      <th></th>\n",
       "      <th></th>\n",
       "      <th></th>\n",
       "      <th></th>\n",
       "      <th></th>\n",
       "      <th></th>\n",
       "      <th></th>\n",
       "    </tr>\n",
       "  </thead>\n",
       "  <tbody>\n",
       "    <tr>\n",
       "      <th>3</th>\n",
       "      <td>270430</td>\n",
       "      <td>Maceió (AL)</td>\n",
       "      <td>512.8</td>\n",
       "      <td>1553.9</td>\n",
       "      <td>0.0000</td>\n",
       "      <td>65.03</td>\n",
       "      <td>43.69</td>\n",
       "      <td>2.21</td>\n",
       "      <td>18.78</td>\n",
       "      <td>282.99</td>\n",
       "      <td>...</td>\n",
       "      <td>83.13</td>\n",
       "      <td>6.56</td>\n",
       "      <td>273512</td>\n",
       "      <td>387942</td>\n",
       "      <td>23310</td>\n",
       "      <td>34782</td>\n",
       "      <td>629041</td>\n",
       "      <td>797759</td>\n",
       "      <td>795804</td>\n",
       "      <td>1955</td>\n",
       "    </tr>\n",
       "    <tr>\n",
       "      <th>3</th>\n",
       "      <td>354870</td>\n",
       "      <td>São Bernardo do Campo (SP)</td>\n",
       "      <td>407.1</td>\n",
       "      <td>1720.5</td>\n",
       "      <td>17.7610</td>\n",
       "      <td>69.93</td>\n",
       "      <td>18.38</td>\n",
       "      <td>1.95</td>\n",
       "      <td>6.01</td>\n",
       "      <td>505.45</td>\n",
       "      <td>...</td>\n",
       "      <td>95.02</td>\n",
       "      <td>7.69</td>\n",
       "      <td>288560</td>\n",
       "      <td>383708</td>\n",
       "      <td>19026</td>\n",
       "      <td>31276</td>\n",
       "      <td>566893</td>\n",
       "      <td>703177</td>\n",
       "      <td>690917</td>\n",
       "      <td>12260</td>\n",
       "    </tr>\n",
       "    <tr>\n",
       "      <th>3</th>\n",
       "      <td>211130</td>\n",
       "      <td>São Luís (MA)</td>\n",
       "      <td>831.7</td>\n",
       "      <td>1043.3</td>\n",
       "      <td>0.0000</td>\n",
       "      <td>69.19</td>\n",
       "      <td>27.44</td>\n",
       "      <td>2.00</td>\n",
       "      <td>8.68</td>\n",
       "      <td>252.13</td>\n",
       "      <td>...</td>\n",
       "      <td>92.69</td>\n",
       "      <td>7.72</td>\n",
       "      <td>256971</td>\n",
       "      <td>395034</td>\n",
       "      <td>20733</td>\n",
       "      <td>33360</td>\n",
       "      <td>666433</td>\n",
       "      <td>870028</td>\n",
       "      <td>837584</td>\n",
       "      <td>32444</td>\n",
       "    </tr>\n",
       "    <tr>\n",
       "      <th>3</th>\n",
       "      <td>355100</td>\n",
       "      <td>São Vicente (SP)</td>\n",
       "      <td>148.8</td>\n",
       "      <td>2034.1</td>\n",
       "      <td>52.3680</td>\n",
       "      <td>69.93</td>\n",
       "      <td>18.38</td>\n",
       "      <td>2.31</td>\n",
       "      <td>7.54</td>\n",
       "      <td>330.52</td>\n",
       "      <td>...</td>\n",
       "      <td>93.69</td>\n",
       "      <td>6.81</td>\n",
       "      <td>134181</td>\n",
       "      <td>162200</td>\n",
       "      <td>12335</td>\n",
       "      <td>17459</td>\n",
       "      <td>268618</td>\n",
       "      <td>303551</td>\n",
       "      <td>303413</td>\n",
       "      <td>138</td>\n",
       "    </tr>\n",
       "    <tr>\n",
       "      <th>3</th>\n",
       "      <td>351500</td>\n",
       "      <td>Embu (SP)</td>\n",
       "      <td>70.3</td>\n",
       "      <td>2941.4</td>\n",
       "      <td>24.6926</td>\n",
       "      <td>69.99</td>\n",
       "      <td>18.26</td>\n",
       "      <td>2.44</td>\n",
       "      <td>9.37</td>\n",
       "      <td>244.20</td>\n",
       "      <td>...</td>\n",
       "      <td>92.31</td>\n",
       "      <td>5.57</td>\n",
       "      <td>65777</td>\n",
       "      <td>97757</td>\n",
       "      <td>2971</td>\n",
       "      <td>5024</td>\n",
       "      <td>155990</td>\n",
       "      <td>207663</td>\n",
       "      <td>207663</td>\n",
       "      <td>0</td>\n",
       "    </tr>\n",
       "    <tr>\n",
       "      <th>3</th>\n",
       "      <td>352500</td>\n",
       "      <td>Jandira (SP)</td>\n",
       "      <td>17.6</td>\n",
       "      <td>5211.4</td>\n",
       "      <td>27.2911</td>\n",
       "      <td>71.35</td>\n",
       "      <td>15.62</td>\n",
       "      <td>2.58</td>\n",
       "      <td>8.52</td>\n",
       "      <td>290.48</td>\n",
       "      <td>...</td>\n",
       "      <td>93.37</td>\n",
       "      <td>6.02</td>\n",
       "      <td>26869</td>\n",
       "      <td>43762</td>\n",
       "      <td>1341</td>\n",
       "      <td>2326</td>\n",
       "      <td>62697</td>\n",
       "      <td>91807</td>\n",
       "      <td>91807</td>\n",
       "      <td>0</td>\n",
       "    </tr>\n",
       "    <tr>\n",
       "      <th>3</th>\n",
       "      <td>330045</td>\n",
       "      <td>Belford Roxo (RJ)</td>\n",
       "      <td>80.0</td>\n",
       "      <td>5414.0</td>\n",
       "      <td>24.9237</td>\n",
       "      <td>67.64</td>\n",
       "      <td>23.52</td>\n",
       "      <td>2.32</td>\n",
       "      <td>9.76</td>\n",
       "      <td>182.33</td>\n",
       "      <td>...</td>\n",
       "      <td>91.99</td>\n",
       "      <td>5.64</td>\n",
       "      <td>169621</td>\n",
       "      <td>221189</td>\n",
       "      <td>12496</td>\n",
       "      <td>20503</td>\n",
       "      <td>360259</td>\n",
       "      <td>434474</td>\n",
       "      <td>434474</td>\n",
       "      <td>0</td>\n",
       "    </tr>\n",
       "  </tbody>\n",
       "</table>\n",
       "<p>7 rows × 25 columns</p>\n",
       "</div>"
      ],
      "text/plain": [
       "            cod                   municipio   area  densidade_demografica  \\\n",
       "cluster                                                                     \n",
       "3        270430                 Maceió (AL)  512.8                 1553.9   \n",
       "3        354870  São Bernardo do Campo (SP)  407.1                 1720.5   \n",
       "3        211130               São Luís (MA)  831.7                 1043.3   \n",
       "3        355100            São Vicente (SP)  148.8                 2034.1   \n",
       "3        351500                   Embu (SP)   70.3                 2941.4   \n",
       "3        352500                Jandira (SP)   17.6                 5211.4   \n",
       "3        330045           Belford Roxo (RJ)   80.0                 5414.0   \n",
       "\n",
       "         distancia_capital  esperanca_vida  mortalidade  taxa_fec_total  \\\n",
       "cluster                                                                   \n",
       "3                   0.0000           65.03        43.69            2.21   \n",
       "3                  17.7610           69.93        18.38            1.95   \n",
       "3                   0.0000           69.19        27.44            2.00   \n",
       "3                  52.3680           69.93        18.38            2.31   \n",
       "3                  24.6926           69.99        18.26            2.44   \n",
       "3                  27.2911           71.35        15.62            2.58   \n",
       "3                  24.9237           67.64        23.52            2.32   \n",
       "\n",
       "         analfabetos_maisde25  renda_percapita  ...  tx_alfab  \\\n",
       "cluster                                         ...             \n",
       "3                       18.78           282.99  ...     83.13   \n",
       "3                        6.01           505.45  ...     95.02   \n",
       "3                        8.68           252.13  ...     92.69   \n",
       "3                        7.54           330.52  ...     93.69   \n",
       "3                        9.37           244.20  ...     92.31   \n",
       "3                        8.52           290.48  ...     93.37   \n",
       "3                        9.76           182.33  ...     91.99   \n",
       "\n",
       "         med_anos_estudos  pop_maisde25_1991  pop_maisde25_2000  \\\n",
       "cluster                                                           \n",
       "3                    6.56             273512             387942   \n",
       "3                    7.69             288560             383708   \n",
       "3                    7.72             256971             395034   \n",
       "3                    6.81             134181             162200   \n",
       "3                    5.57              65777              97757   \n",
       "3                    6.02              26869              43762   \n",
       "3                    5.64             169621             221189   \n",
       "\n",
       "         pop_maisde65_1991  pop_maisde65_2000  pop_total1991  pop_total2000  \\\n",
       "cluster                                                                       \n",
       "3                    23310              34782         629041         797759   \n",
       "3                    19026              31276         566893         703177   \n",
       "3                    20733              33360         666433         870028   \n",
       "3                    12335              17459         268618         303551   \n",
       "3                     2971               5024         155990         207663   \n",
       "3                     1341               2326          62697          91807   \n",
       "3                    12496              20503         360259         434474   \n",
       "\n",
       "         pop_urbana2000  pop_rural2000  \n",
       "cluster                                 \n",
       "3                795804           1955  \n",
       "3                690917          12260  \n",
       "3                837584          32444  \n",
       "3                303413            138  \n",
       "3                207663              0  \n",
       "3                 91807              0  \n",
       "3                434474              0  \n",
       "\n",
       "[7 rows x 25 columns]"
      ]
     },
     "execution_count": 36,
     "metadata": {},
     "output_type": "execute_result"
    }
   ],
   "source": [
    "# Identiificando o municipio do grupo 2 \n",
    "base_cluster.loc[3].sample(7)"
   ]
  },
  {
   "cell_type": "code",
   "execution_count": 37,
   "metadata": {
    "extensions": {
     "jupyter_dashboards": {
      "version": 1,
      "views": {
       "grid_default": {},
       "report_default": {
        "hidden": true
       }
      }
     }
    }
   },
   "outputs": [],
   "source": [
    "base_cluster2 = base_cluster.reset_index()"
   ]
  },
  {
   "cell_type": "code",
   "execution_count": 38,
   "metadata": {
    "extensions": {
     "jupyter_dashboards": {
      "version": 1,
      "views": {
       "grid_default": {},
       "report_default": {
        "hidden": false
       }
      }
     }
    }
   },
   "outputs": [
    {
     "data": {
      "text/html": [
       "<div>\n",
       "<style scoped>\n",
       "    .dataframe tbody tr th:only-of-type {\n",
       "        vertical-align: middle;\n",
       "    }\n",
       "\n",
       "    .dataframe tbody tr th {\n",
       "        vertical-align: top;\n",
       "    }\n",
       "\n",
       "    .dataframe thead th {\n",
       "        text-align: right;\n",
       "    }\n",
       "</style>\n",
       "<table border=\"1\" class=\"dataframe\">\n",
       "  <thead>\n",
       "    <tr style=\"text-align: right;\">\n",
       "      <th></th>\n",
       "      <th>cluster</th>\n",
       "      <th>cod</th>\n",
       "      <th>municipio</th>\n",
       "      <th>area</th>\n",
       "      <th>densidade_demografica</th>\n",
       "      <th>distancia_capital</th>\n",
       "      <th>esperanca_vida</th>\n",
       "      <th>mortalidade</th>\n",
       "      <th>taxa_fec_total</th>\n",
       "      <th>analfabetos_maisde25</th>\n",
       "      <th>...</th>\n",
       "      <th>tx_alfab</th>\n",
       "      <th>med_anos_estudos</th>\n",
       "      <th>pop_maisde25_1991</th>\n",
       "      <th>pop_maisde25_2000</th>\n",
       "      <th>pop_maisde65_1991</th>\n",
       "      <th>pop_maisde65_2000</th>\n",
       "      <th>pop_total1991</th>\n",
       "      <th>pop_total2000</th>\n",
       "      <th>pop_urbana2000</th>\n",
       "      <th>pop_rural2000</th>\n",
       "    </tr>\n",
       "  </thead>\n",
       "  <tbody>\n",
       "    <tr>\n",
       "      <th>0</th>\n",
       "      <td>1</td>\n",
       "      <td>520005</td>\n",
       "      <td>Abadia de Goiás (GO)</td>\n",
       "      <td>136.9</td>\n",
       "      <td>36.3</td>\n",
       "      <td>21.4143</td>\n",
       "      <td>67.58</td>\n",
       "      <td>27.70</td>\n",
       "      <td>2.85</td>\n",
       "      <td>15.64</td>\n",
       "      <td>...</td>\n",
       "      <td>88.03</td>\n",
       "      <td>4.87</td>\n",
       "      <td>1872</td>\n",
       "      <td>2433</td>\n",
       "      <td>121</td>\n",
       "      <td>227</td>\n",
       "      <td>4227</td>\n",
       "      <td>4971</td>\n",
       "      <td>3096</td>\n",
       "      <td>1875</td>\n",
       "    </tr>\n",
       "    <tr>\n",
       "      <th>1</th>\n",
       "      <td>1</td>\n",
       "      <td>310010</td>\n",
       "      <td>Abadia dos Dourados (MG)</td>\n",
       "      <td>897.4</td>\n",
       "      <td>7.2</td>\n",
       "      <td>390.8765</td>\n",
       "      <td>72.92</td>\n",
       "      <td>20.51</td>\n",
       "      <td>2.54</td>\n",
       "      <td>14.48</td>\n",
       "      <td>...</td>\n",
       "      <td>86.58</td>\n",
       "      <td>4.36</td>\n",
       "      <td>3308</td>\n",
       "      <td>3781</td>\n",
       "      <td>354</td>\n",
       "      <td>459</td>\n",
       "      <td>6492</td>\n",
       "      <td>6446</td>\n",
       "      <td>3927</td>\n",
       "      <td>2519</td>\n",
       "    </tr>\n",
       "    <tr>\n",
       "      <th>2</th>\n",
       "      <td>4</td>\n",
       "      <td>520010</td>\n",
       "      <td>Abadiânia (GO)</td>\n",
       "      <td>1047.7</td>\n",
       "      <td>10.9</td>\n",
       "      <td>78.6414</td>\n",
       "      <td>69.59</td>\n",
       "      <td>22.36</td>\n",
       "      <td>2.77</td>\n",
       "      <td>21.81</td>\n",
       "      <td>...</td>\n",
       "      <td>82.45</td>\n",
       "      <td>4.24</td>\n",
       "      <td>4241</td>\n",
       "      <td>5918</td>\n",
       "      <td>446</td>\n",
       "      <td>686</td>\n",
       "      <td>9402</td>\n",
       "      <td>11452</td>\n",
       "      <td>7206</td>\n",
       "      <td>4246</td>\n",
       "    </tr>\n",
       "    <tr>\n",
       "      <th>3</th>\n",
       "      <td>4</td>\n",
       "      <td>150010</td>\n",
       "      <td>Abaetetuba (PA)</td>\n",
       "      <td>1613.9</td>\n",
       "      <td>73.8</td>\n",
       "      <td>51.1846</td>\n",
       "      <td>70.77</td>\n",
       "      <td>25.61</td>\n",
       "      <td>3.15</td>\n",
       "      <td>24.85</td>\n",
       "      <td>...</td>\n",
       "      <td>80.74</td>\n",
       "      <td>4.28</td>\n",
       "      <td>33554</td>\n",
       "      <td>44897</td>\n",
       "      <td>3792</td>\n",
       "      <td>4688</td>\n",
       "      <td>99989</td>\n",
       "      <td>119152</td>\n",
       "      <td>70843</td>\n",
       "      <td>48309</td>\n",
       "    </tr>\n",
       "    <tr>\n",
       "      <th>4</th>\n",
       "      <td>1</td>\n",
       "      <td>310020</td>\n",
       "      <td>Abaeté (MG)</td>\n",
       "      <td>1822.4</td>\n",
       "      <td>12.3</td>\n",
       "      <td>172.3115</td>\n",
       "      <td>72.50</td>\n",
       "      <td>21.59</td>\n",
       "      <td>2.41</td>\n",
       "      <td>15.56</td>\n",
       "      <td>...</td>\n",
       "      <td>87.55</td>\n",
       "      <td>4.78</td>\n",
       "      <td>10163</td>\n",
       "      <td>12406</td>\n",
       "      <td>1084</td>\n",
       "      <td>1595</td>\n",
       "      <td>20689</td>\n",
       "      <td>22360</td>\n",
       "      <td>19022</td>\n",
       "      <td>3338</td>\n",
       "    </tr>\n",
       "  </tbody>\n",
       "</table>\n",
       "<p>5 rows × 26 columns</p>\n",
       "</div>"
      ],
      "text/plain": [
       "   cluster     cod                 municipio    area  densidade_demografica  \\\n",
       "0        1  520005      Abadia de Goiás (GO)   136.9                   36.3   \n",
       "1        1  310010  Abadia dos Dourados (MG)   897.4                    7.2   \n",
       "2        4  520010            Abadiânia (GO)  1047.7                   10.9   \n",
       "3        4  150010           Abaetetuba (PA)  1613.9                   73.8   \n",
       "4        1  310020               Abaeté (MG)  1822.4                   12.3   \n",
       "\n",
       "   distancia_capital  esperanca_vida  mortalidade  taxa_fec_total  \\\n",
       "0            21.4143           67.58        27.70            2.85   \n",
       "1           390.8765           72.92        20.51            2.54   \n",
       "2            78.6414           69.59        22.36            2.77   \n",
       "3            51.1846           70.77        25.61            3.15   \n",
       "4           172.3115           72.50        21.59            2.41   \n",
       "\n",
       "   analfabetos_maisde25  ...  tx_alfab  med_anos_estudos  pop_maisde25_1991  \\\n",
       "0                 15.64  ...     88.03              4.87               1872   \n",
       "1                 14.48  ...     86.58              4.36               3308   \n",
       "2                 21.81  ...     82.45              4.24               4241   \n",
       "3                 24.85  ...     80.74              4.28              33554   \n",
       "4                 15.56  ...     87.55              4.78              10163   \n",
       "\n",
       "   pop_maisde25_2000  pop_maisde65_1991  pop_maisde65_2000  pop_total1991  \\\n",
       "0               2433                121                227           4227   \n",
       "1               3781                354                459           6492   \n",
       "2               5918                446                686           9402   \n",
       "3              44897               3792               4688          99989   \n",
       "4              12406               1084               1595          20689   \n",
       "\n",
       "   pop_total2000  pop_urbana2000  pop_rural2000  \n",
       "0           4971            3096           1875  \n",
       "1           6446            3927           2519  \n",
       "2          11452            7206           4246  \n",
       "3         119152           70843          48309  \n",
       "4          22360           19022           3338  \n",
       "\n",
       "[5 rows x 26 columns]"
      ]
     },
     "execution_count": 38,
     "metadata": {},
     "output_type": "execute_result"
    }
   ],
   "source": [
    "base_cluster2.head()"
   ]
  },
  {
   "cell_type": "code",
   "execution_count": 65,
   "metadata": {
    "extensions": {
     "jupyter_dashboards": {
      "version": 1,
      "views": {
       "grid_default": {},
       "report_default": {
        "hidden": false
       }
      }
     }
    }
   },
   "outputs": [
    {
     "data": {
      "text/plain": [
       "'temp-plot.html'"
      ]
     },
     "execution_count": 65,
     "metadata": {},
     "output_type": "execute_result"
    }
   ],
   "source": [
    "\n",
    "import plotly.offline as py\n",
    "import plotly.express as px\n",
    "df = base_cluster2\n",
    "fig = px.scatter_matrix(df, dimensions=[\"renda_percapita\", \"idh\", \"gini\"], color=\"cluster\")\n",
    "#fig.show()\n",
    "py.plot(fig)\n"
   ]
  },
  {
   "cell_type": "markdown",
   "metadata": {
    "extensions": {
     "jupyter_dashboards": {
      "version": 1,
      "views": {
       "grid_default": {},
       "report_default": {
        "hidden": false
       }
      }
     }
    }
   },
   "source": [
    "### Análise Exploratória dos dados dos grupos"
   ]
  },
  {
   "cell_type": "code",
   "execution_count": 39,
   "metadata": {
    "extensions": {
     "jupyter_dashboards": {
      "version": 1,
      "views": {
       "grid_default": {},
       "report_default": {
        "hidden": false
       }
      }
     }
    }
   },
   "outputs": [
    {
     "data": {
      "text/html": [
       "<div>\n",
       "<style scoped>\n",
       "    .dataframe tbody tr th:only-of-type {\n",
       "        vertical-align: middle;\n",
       "    }\n",
       "\n",
       "    .dataframe tbody tr th {\n",
       "        vertical-align: top;\n",
       "    }\n",
       "\n",
       "    .dataframe thead th {\n",
       "        text-align: right;\n",
       "    }\n",
       "</style>\n",
       "<table border=\"1\" class=\"dataframe\">\n",
       "  <thead>\n",
       "    <tr style=\"text-align: right;\">\n",
       "      <th></th>\n",
       "      <th>densidade_demografica</th>\n",
       "      <th>renda_percapita</th>\n",
       "      <th>idh</th>\n",
       "      <th>gini</th>\n",
       "    </tr>\n",
       "    <tr>\n",
       "      <th>cluster</th>\n",
       "      <th></th>\n",
       "      <th></th>\n",
       "      <th></th>\n",
       "      <th></th>\n",
       "    </tr>\n",
       "  </thead>\n",
       "  <tbody>\n",
       "    <tr>\n",
       "      <th>0</th>\n",
       "      <td>33.524067</td>\n",
       "      <td>76.691114</td>\n",
       "      <td>0.597759</td>\n",
       "      <td>0.588346</td>\n",
       "    </tr>\n",
       "    <tr>\n",
       "      <th>1</th>\n",
       "      <td>85.627273</td>\n",
       "      <td>253.552714</td>\n",
       "      <td>0.777412</td>\n",
       "      <td>0.531443</td>\n",
       "    </tr>\n",
       "    <tr>\n",
       "      <th>2</th>\n",
       "      <td>5718.000000</td>\n",
       "      <td>603.345000</td>\n",
       "      <td>0.841500</td>\n",
       "      <td>0.620000</td>\n",
       "    </tr>\n",
       "    <tr>\n",
       "      <th>3</th>\n",
       "      <td>3691.063158</td>\n",
       "      <td>393.744561</td>\n",
       "      <td>0.809228</td>\n",
       "      <td>0.569474</td>\n",
       "    </tr>\n",
       "    <tr>\n",
       "      <th>4</th>\n",
       "      <td>40.582235</td>\n",
       "      <td>145.006086</td>\n",
       "      <td>0.694749</td>\n",
       "      <td>0.573005</td>\n",
       "    </tr>\n",
       "  </tbody>\n",
       "</table>\n",
       "</div>"
      ],
      "text/plain": [
       "         densidade_demografica  renda_percapita       idh      gini\n",
       "cluster                                                            \n",
       "0                    33.524067        76.691114  0.597759  0.588346\n",
       "1                    85.627273       253.552714  0.777412  0.531443\n",
       "2                  5718.000000       603.345000  0.841500  0.620000\n",
       "3                  3691.063158       393.744561  0.809228  0.569474\n",
       "4                    40.582235       145.006086  0.694749  0.573005"
      ]
     },
     "execution_count": 39,
     "metadata": {},
     "output_type": "execute_result"
    }
   ],
   "source": [
    "clusters = base_cluster.groupby('cluster')[ 'densidade_demografica','renda_percapita', 'idh', 'gini'].mean()\n",
    "clusters"
   ]
  },
  {
   "cell_type": "markdown",
   "metadata": {
    "extensions": {
     "jupyter_dashboards": {
      "version": 1,
      "views": {
       "grid_default": {},
       "report_default": {
        "hidden": false
       }
      }
     }
    }
   },
   "source": [
    "#### Renda per Capita"
   ]
  },
  {
   "cell_type": "code",
   "execution_count": 40,
   "metadata": {
    "extensions": {
     "jupyter_dashboards": {
      "version": 1,
      "views": {
       "grid_default": {},
       "report_default": {
        "hidden": false
       }
      }
     }
    }
   },
   "outputs": [
    {
     "data": {
      "text/plain": [
       "<matplotlib.axes._subplots.AxesSubplot at 0x174874985c8>"
      ]
     },
     "execution_count": 40,
     "metadata": {},
     "output_type": "execute_result"
    },
    {
     "data": {
      "image/png": "[encoded data removed]",
      "text/plain": [
       "<Figure size 432x288 with 1 Axes>"
      ]
     },
     "metadata": {
      "needs_background": "light"
     },
     "output_type": "display_data"
    }
   ],
   "source": [
    "#Identificando a maior densidade demográfica\n",
    "clusters.groupby('cluster')[ 'renda_percapita'].mean().plot.bar()"
   ]
  },
  {
   "cell_type": "markdown",
   "metadata": {
    "extensions": {
     "jupyter_dashboards": {
      "version": 1,
      "views": {
       "grid_default": {},
       "report_default": {
        "hidden": false
       }
      }
     }
    }
   },
   "source": [
    "#### Densidade Demográfica"
   ]
  },
  {
   "cell_type": "code",
   "execution_count": 41,
   "metadata": {
    "extensions": {
     "jupyter_dashboards": {
      "version": 1,
      "views": {
       "grid_default": {},
       "report_default": {
        "hidden": false
       }
      }
     }
    }
   },
   "outputs": [
    {
     "data": {
      "text/plain": [
       "<matplotlib.axes._subplots.AxesSubplot at 0x17487527948>"
      ]
     },
     "execution_count": 41,
     "metadata": {},
     "output_type": "execute_result"
    },
    {
     "data": {
      "image/png": "[encoded data removed]",
      "text/plain": [
       "<Figure size 432x288 with 1 Axes>"
      ]
     },
     "metadata": {
      "needs_background": "light"
     },
     "output_type": "display_data"
    }
   ],
   "source": [
    "#Identificando o maior Indice de Densidade Demográfica\n",
    "clusters.groupby('cluster')[ 'densidade_demografica'].mean().plot.bar()"
   ]
  },
  {
   "cell_type": "markdown",
   "metadata": {
    "extensions": {
     "jupyter_dashboards": {
      "version": 1,
      "views": {
       "grid_default": {},
       "report_default": {
        "hidden": false
       }
      }
     }
    }
   },
   "source": [
    "> # <font color='blue'>Etapa de classificação dos municípios selecionados</font>"
   ]
  },
  {
   "cell_type": "markdown",
   "metadata": {
    "extensions": {
     "jupyter_dashboards": {
      "version": 1,
      "views": {
       "grid_default": {},
       "report_default": {
        "hidden": false
       }
      }
     }
    }
   },
   "source": [
    "Com base nas escolhas acima vamos montar um modelo probalístico para classificação para um determinado município pertencer a um dos grupos criados."
   ]
  },
  {
   "cell_type": "markdown",
   "metadata": {
    "extensions": {
     "jupyter_dashboards": {
      "version": 1,
      "views": {
       "grid_default": {},
       "report_default": {
        "hidden": false
       }
      }
     }
    }
   },
   "source": [
    "### Importando dados"
   ]
  },
  {
   "cell_type": "code",
   "execution_count": 42,
   "metadata": {
    "extensions": {
     "jupyter_dashboards": {
      "version": 1,
      "views": {
       "grid_default": {},
       "report_default": {
        "hidden": true
       }
      }
     }
    }
   },
   "outputs": [],
   "source": [
    "municipios = pd.read_csv('base_cluster.csv')"
   ]
  },
  {
   "cell_type": "code",
   "execution_count": 43,
   "metadata": {
    "extensions": {
     "jupyter_dashboards": {
      "version": 1,
      "views": {
       "grid_default": {},
       "report_default": {
        "hidden": false
       }
      }
     }
    }
   },
   "outputs": [
    {
     "data": {
      "text/html": [
       "<div>\n",
       "<style scoped>\n",
       "    .dataframe tbody tr th:only-of-type {\n",
       "        vertical-align: middle;\n",
       "    }\n",
       "\n",
       "    .dataframe tbody tr th {\n",
       "        vertical-align: top;\n",
       "    }\n",
       "\n",
       "    .dataframe thead th {\n",
       "        text-align: right;\n",
       "    }\n",
       "</style>\n",
       "<table border=\"1\" class=\"dataframe\">\n",
       "  <thead>\n",
       "    <tr style=\"text-align: right;\">\n",
       "      <th></th>\n",
       "      <th>cluster</th>\n",
       "      <th>cod</th>\n",
       "      <th>municipio</th>\n",
       "      <th>area</th>\n",
       "      <th>densidade_demografica</th>\n",
       "      <th>distancia_capital</th>\n",
       "      <th>esperanca_vida</th>\n",
       "      <th>mortalidade</th>\n",
       "      <th>taxa_fec_total</th>\n",
       "      <th>analfabetos_maisde25</th>\n",
       "      <th>...</th>\n",
       "      <th>tx_alfab</th>\n",
       "      <th>med_anos_estudos</th>\n",
       "      <th>pop_maisde25_1991</th>\n",
       "      <th>pop_maisde25_2000</th>\n",
       "      <th>pop_maisde65_1991</th>\n",
       "      <th>pop_maisde65_2000</th>\n",
       "      <th>pop_total1991</th>\n",
       "      <th>pop_total2000</th>\n",
       "      <th>pop_urbana2000</th>\n",
       "      <th>pop_rural2000</th>\n",
       "    </tr>\n",
       "  </thead>\n",
       "  <tbody>\n",
       "    <tr>\n",
       "      <th>0</th>\n",
       "      <td>1</td>\n",
       "      <td>520005</td>\n",
       "      <td>Abadia de Goiás (GO)</td>\n",
       "      <td>136.9</td>\n",
       "      <td>36.3</td>\n",
       "      <td>21.4143</td>\n",
       "      <td>67.58</td>\n",
       "      <td>27.70</td>\n",
       "      <td>2.85</td>\n",
       "      <td>15.64</td>\n",
       "      <td>...</td>\n",
       "      <td>88.03</td>\n",
       "      <td>4.87</td>\n",
       "      <td>1872</td>\n",
       "      <td>2433</td>\n",
       "      <td>121</td>\n",
       "      <td>227</td>\n",
       "      <td>4227</td>\n",
       "      <td>4971</td>\n",
       "      <td>3096</td>\n",
       "      <td>1875</td>\n",
       "    </tr>\n",
       "    <tr>\n",
       "      <th>1</th>\n",
       "      <td>1</td>\n",
       "      <td>310010</td>\n",
       "      <td>Abadia dos Dourados (MG)</td>\n",
       "      <td>897.4</td>\n",
       "      <td>7.2</td>\n",
       "      <td>390.8765</td>\n",
       "      <td>72.92</td>\n",
       "      <td>20.51</td>\n",
       "      <td>2.54</td>\n",
       "      <td>14.48</td>\n",
       "      <td>...</td>\n",
       "      <td>86.58</td>\n",
       "      <td>4.36</td>\n",
       "      <td>3308</td>\n",
       "      <td>3781</td>\n",
       "      <td>354</td>\n",
       "      <td>459</td>\n",
       "      <td>6492</td>\n",
       "      <td>6446</td>\n",
       "      <td>3927</td>\n",
       "      <td>2519</td>\n",
       "    </tr>\n",
       "    <tr>\n",
       "      <th>2</th>\n",
       "      <td>4</td>\n",
       "      <td>520010</td>\n",
       "      <td>Abadiânia (GO)</td>\n",
       "      <td>1047.7</td>\n",
       "      <td>10.9</td>\n",
       "      <td>78.6414</td>\n",
       "      <td>69.59</td>\n",
       "      <td>22.36</td>\n",
       "      <td>2.77</td>\n",
       "      <td>21.81</td>\n",
       "      <td>...</td>\n",
       "      <td>82.45</td>\n",
       "      <td>4.24</td>\n",
       "      <td>4241</td>\n",
       "      <td>5918</td>\n",
       "      <td>446</td>\n",
       "      <td>686</td>\n",
       "      <td>9402</td>\n",
       "      <td>11452</td>\n",
       "      <td>7206</td>\n",
       "      <td>4246</td>\n",
       "    </tr>\n",
       "    <tr>\n",
       "      <th>3</th>\n",
       "      <td>4</td>\n",
       "      <td>150010</td>\n",
       "      <td>Abaetetuba (PA)</td>\n",
       "      <td>1613.9</td>\n",
       "      <td>73.8</td>\n",
       "      <td>51.1846</td>\n",
       "      <td>70.77</td>\n",
       "      <td>25.61</td>\n",
       "      <td>3.15</td>\n",
       "      <td>24.85</td>\n",
       "      <td>...</td>\n",
       "      <td>80.74</td>\n",
       "      <td>4.28</td>\n",
       "      <td>33554</td>\n",
       "      <td>44897</td>\n",
       "      <td>3792</td>\n",
       "      <td>4688</td>\n",
       "      <td>99989</td>\n",
       "      <td>119152</td>\n",
       "      <td>70843</td>\n",
       "      <td>48309</td>\n",
       "    </tr>\n",
       "    <tr>\n",
       "      <th>4</th>\n",
       "      <td>1</td>\n",
       "      <td>310020</td>\n",
       "      <td>Abaeté (MG)</td>\n",
       "      <td>1822.4</td>\n",
       "      <td>12.3</td>\n",
       "      <td>172.3115</td>\n",
       "      <td>72.50</td>\n",
       "      <td>21.59</td>\n",
       "      <td>2.41</td>\n",
       "      <td>15.56</td>\n",
       "      <td>...</td>\n",
       "      <td>87.55</td>\n",
       "      <td>4.78</td>\n",
       "      <td>10163</td>\n",
       "      <td>12406</td>\n",
       "      <td>1084</td>\n",
       "      <td>1595</td>\n",
       "      <td>20689</td>\n",
       "      <td>22360</td>\n",
       "      <td>19022</td>\n",
       "      <td>3338</td>\n",
       "    </tr>\n",
       "  </tbody>\n",
       "</table>\n",
       "<p>5 rows × 26 columns</p>\n",
       "</div>"
      ],
      "text/plain": [
       "   cluster     cod                 municipio    area  densidade_demografica  \\\n",
       "0        1  520005      Abadia de Goiás (GO)   136.9                   36.3   \n",
       "1        1  310010  Abadia dos Dourados (MG)   897.4                    7.2   \n",
       "2        4  520010            Abadiânia (GO)  1047.7                   10.9   \n",
       "3        4  150010           Abaetetuba (PA)  1613.9                   73.8   \n",
       "4        1  310020               Abaeté (MG)  1822.4                   12.3   \n",
       "\n",
       "   distancia_capital  esperanca_vida  mortalidade  taxa_fec_total  \\\n",
       "0            21.4143           67.58        27.70            2.85   \n",
       "1           390.8765           72.92        20.51            2.54   \n",
       "2            78.6414           69.59        22.36            2.77   \n",
       "3            51.1846           70.77        25.61            3.15   \n",
       "4           172.3115           72.50        21.59            2.41   \n",
       "\n",
       "   analfabetos_maisde25  ...  tx_alfab  med_anos_estudos  pop_maisde25_1991  \\\n",
       "0                 15.64  ...     88.03              4.87               1872   \n",
       "1                 14.48  ...     86.58              4.36               3308   \n",
       "2                 21.81  ...     82.45              4.24               4241   \n",
       "3                 24.85  ...     80.74              4.28              33554   \n",
       "4                 15.56  ...     87.55              4.78              10163   \n",
       "\n",
       "   pop_maisde25_2000  pop_maisde65_1991  pop_maisde65_2000  pop_total1991  \\\n",
       "0               2433                121                227           4227   \n",
       "1               3781                354                459           6492   \n",
       "2               5918                446                686           9402   \n",
       "3              44897               3792               4688          99989   \n",
       "4              12406               1084               1595          20689   \n",
       "\n",
       "   pop_total2000  pop_urbana2000  pop_rural2000  \n",
       "0           4971            3096           1875  \n",
       "1           6446            3927           2519  \n",
       "2          11452            7206           4246  \n",
       "3         119152           70843          48309  \n",
       "4          22360           19022           3338  \n",
       "\n",
       "[5 rows x 26 columns]"
      ]
     },
     "execution_count": 43,
     "metadata": {},
     "output_type": "execute_result"
    }
   ],
   "source": [
    "municipios.head(5)"
   ]
  },
  {
   "cell_type": "code",
   "execution_count": 44,
   "metadata": {
    "extensions": {
     "jupyter_dashboards": {
      "version": 1,
      "views": {
       "grid_default": {},
       "report_default": {
        "hidden": false
       }
      }
     }
    }
   },
   "outputs": [
    {
     "data": {
      "text/html": [
       "<div>\n",
       "<style scoped>\n",
       "    .dataframe tbody tr th:only-of-type {\n",
       "        vertical-align: middle;\n",
       "    }\n",
       "\n",
       "    .dataframe tbody tr th {\n",
       "        vertical-align: top;\n",
       "    }\n",
       "\n",
       "    .dataframe thead th {\n",
       "        text-align: right;\n",
       "    }\n",
       "</style>\n",
       "<table border=\"1\" class=\"dataframe\">\n",
       "  <thead>\n",
       "    <tr style=\"text-align: right;\">\n",
       "      <th></th>\n",
       "      <th>densidade_demografica</th>\n",
       "      <th>renda_percapita</th>\n",
       "      <th>idh</th>\n",
       "      <th>gini</th>\n",
       "    </tr>\n",
       "    <tr>\n",
       "      <th>cluster</th>\n",
       "      <th></th>\n",
       "      <th></th>\n",
       "      <th></th>\n",
       "      <th></th>\n",
       "    </tr>\n",
       "  </thead>\n",
       "  <tbody>\n",
       "    <tr>\n",
       "      <th>0</th>\n",
       "      <td>33.524067</td>\n",
       "      <td>76.691114</td>\n",
       "      <td>0.597759</td>\n",
       "      <td>0.588346</td>\n",
       "    </tr>\n",
       "    <tr>\n",
       "      <th>1</th>\n",
       "      <td>85.627273</td>\n",
       "      <td>253.552714</td>\n",
       "      <td>0.777412</td>\n",
       "      <td>0.531443</td>\n",
       "    </tr>\n",
       "    <tr>\n",
       "      <th>2</th>\n",
       "      <td>5718.000000</td>\n",
       "      <td>603.345000</td>\n",
       "      <td>0.841500</td>\n",
       "      <td>0.620000</td>\n",
       "    </tr>\n",
       "    <tr>\n",
       "      <th>3</th>\n",
       "      <td>3691.063158</td>\n",
       "      <td>393.744561</td>\n",
       "      <td>0.809228</td>\n",
       "      <td>0.569474</td>\n",
       "    </tr>\n",
       "    <tr>\n",
       "      <th>4</th>\n",
       "      <td>40.582235</td>\n",
       "      <td>145.006086</td>\n",
       "      <td>0.694749</td>\n",
       "      <td>0.573005</td>\n",
       "    </tr>\n",
       "  </tbody>\n",
       "</table>\n",
       "</div>"
      ],
      "text/plain": [
       "         densidade_demografica  renda_percapita       idh      gini\n",
       "cluster                                                            \n",
       "0                    33.524067        76.691114  0.597759  0.588346\n",
       "1                    85.627273       253.552714  0.777412  0.531443\n",
       "2                  5718.000000       603.345000  0.841500  0.620000\n",
       "3                  3691.063158       393.744561  0.809228  0.569474\n",
       "4                    40.582235       145.006086  0.694749  0.573005"
      ]
     },
     "execution_count": 44,
     "metadata": {},
     "output_type": "execute_result"
    }
   ],
   "source": [
    "municipios.groupby('cluster')[ 'densidade_demografica','renda_percapita', 'idh', 'gini'].mean()"
   ]
  },
  {
   "cell_type": "markdown",
   "metadata": {
    "extensions": {
     "jupyter_dashboards": {
      "version": 1,
      "views": {
       "grid_default": {},
       "report_default": {
        "hidden": false
       }
      }
     }
    }
   },
   "source": [
    "### Engenharia de atributos"
   ]
  },
  {
   "cell_type": "code",
   "execution_count": null,
   "metadata": {
    "extensions": {
     "jupyter_dashboards": {
      "version": 1,
      "views": {
       "grid_default": {},
       "report_default": {
        "hidden": true
       }
      }
     }
    }
   },
   "outputs": [],
   "source": [
    "# Vamos excluir algumas features que consideramos desnecessárias no momento.\n",
    "municipios2 = municipios.drop(columns=[ 'cod', 'municipio', 'area','pop_total1991', 'pop_maisde65_1991',\n",
    "                                       'pop_maisde25_1991','pop_rural2000', 'pop_urbana2000',\n",
    "                                       'pop_maisde65_2000'], inplace=False)"
   ]
  },
  {
   "cell_type": "code",
   "execution_count": null,
   "metadata": {
    "extensions": {
     "jupyter_dashboards": {
      "version": 1,
      "views": {
       "grid_default": {},
       "report_default": {
        "hidden": false
       }
      }
     }
    }
   },
   "outputs": [],
   "source": [
    "municipios2.sample(5)"
   ]
  },
  {
   "cell_type": "markdown",
   "metadata": {
    "extensions": {
     "jupyter_dashboards": {
      "version": 1,
      "views": {
       "grid_default": {},
       "report_default": {
        "hidden": false
       }
      }
     }
    }
   },
   "source": [
    "### Modelagem preditiva do dados com algoritimo de classificação multiclasses"
   ]
  },
  {
   "cell_type": "code",
   "execution_count": null,
   "metadata": {
    "extensions": {
     "jupyter_dashboards": {
      "version": 1,
      "views": {
       "grid_default": {},
       "report_default": {
        "hidden": true
       }
      }
     }
    }
   },
   "outputs": [],
   "source": [
    "# Vamos separar as colunas em Features e Target\n",
    "features = municipios2[\n",
    "    [\n",
    "        \n",
    "   'densidade_demografica', 'distancia_capital',\n",
    "       'esperanca_vida', 'mortalidade', 'taxa_fec_total',\n",
    "       'analfabetos_maisde25', 'renda_percapita', 'gini', 'indigencia',\n",
    "       'pobreza', 'idh', 'freq_escola', 'tx_alfab', 'med_anos_estudos',\n",
    "       'pop_maisde25_2000', 'pop_total2000'\n",
    "    ]\n",
    "    \n",
    "]\n",
    "target = municipios2['cluster']  "
   ]
  },
  {
   "cell_type": "code",
   "execution_count": null,
   "metadata": {
    "extensions": {
     "jupyter_dashboards": {
      "version": 1,
      "views": {
       "grid_default": {},
       "report_default": {
        "hidden": true
       }
      }
     }
    }
   },
   "outputs": [],
   "source": [
    "import matplotlib.pyplot as plt\n",
    "from sklearn.model_selection import KFold\n",
    "from sklearn.model_selection import cross_val_score\n",
    "from sklearn.linear_model import LogisticRegression\n",
    "from sklearn.tree import DecisionTreeClassifier\n",
    "from sklearn.neighbors import KNeighborsClassifier\n",
    "from sklearn.discriminant_analysis import LinearDiscriminantAnalysis\n",
    "from sklearn.ensemble import RandomForestClassifier\n",
    "from sklearn.naive_bayes import GaussianNB\n",
    "from sklearn.svm import SVC\n",
    "from sklearn.linear_model import SGDClassifier\n",
    "from sklearn.ensemble import ExtraTreesClassifier\n",
    "from sklearn.ensemble import GradientBoostingClassifier\n",
    "from sklearn.ensemble import AdaBoostClassifier\n",
    "from sklearn.neural_network import MLPClassifier"
   ]
  },
  {
   "cell_type": "code",
   "execution_count": null,
   "metadata": {
    "extensions": {
     "jupyter_dashboards": {
      "version": 1,
      "views": {
       "grid_default": {},
       "report_default": {
        "hidden": true
       }
      }
     }
    }
   },
   "outputs": [],
   "source": [
    "#Divisão do dataset em treino e teste\n",
    "\n",
    "from sklearn.model_selection import train_test_split\n",
    "\n",
    "X = features\n",
    "Y = target\n",
    "\n",
    "X_train, X_test, y_train, y_test = train_test_split(X, Y, test_size=0.33, random_state=133)"
   ]
  },
  {
   "cell_type": "code",
   "execution_count": null,
   "metadata": {
    "extensions": {
     "jupyter_dashboards": {
      "version": 1,
      "views": {
       "grid_default": {},
       "report_default": {
        "hidden": false
       }
      }
     }
    }
   },
   "outputs": [],
   "source": [
    "# Avaliação do modelo usando o \n",
    "\n",
    "from pandas import read_csv\n",
    "from sklearn.model_selection import KFold\n",
    "from sklearn.model_selection import cross_val_score\n",
    "from sklearn.metrics import mean_squared_error\n",
    "from sklearn.metrics import mean_absolute_error\n",
    "from sklearn.metrics import r2_score\n",
    "from sklearn.model_selection import cross_val_score\n",
    "from sklearn.metrics import confusion_matrix\n",
    "from sklearn.metrics import classification_report\n",
    "from sklearn.ensemble import RandomForestClassifier\n",
    "\n",
    "# Separando as features e target\n",
    "X = features\n",
    "Y = target\n",
    "\n",
    "# Divide os dados em treino e teste\n",
    "X_train, X_test, Y_train, Y_test = train_test_split(X, Y, test_size = 0.40, random_state = 5)\n",
    "\n",
    "# Criando o modelo\n",
    "Model = GaussianNB()\n",
    "\n",
    "\n",
    "# Definindo os valores para o número de folds\n",
    "num_folds = 10\n",
    "seed = 7\n",
    "    \n",
    "# Separando os dados em folds\n",
    "kfold = KFold(num_folds, True, random_state = seed)    \n",
    "    \n",
    "\n",
    "# Treinando o modelo\n",
    "Model.fit(X_train, Y_train)\n",
    "\n",
    "\n",
    "# Previsão do modelo\n",
    "\n",
    "Predict = Model.predict(X_test)\n",
    "\n",
    "\n",
    "# Acurácia final e ROC\n",
    "resultadoAC = cross_val_score(Model, X, Y, cv = kfold, scoring = 'accuracy')\n",
    "#resultadoROC = cross_val_score(Model, X, Y, cv = kfold, scoring = 'roc_auc')\n",
    "\n",
    "print(\"A Acurácia foi de: %.3f%%\" % (resultadoAC.mean() * 100.0))\n",
    "#print(\"ROC foi de: %.3f\" % (resultadoROC.mean() * 100))\n",
    "\n",
    "report = classification_report(Y_test, Predict)\n",
    "\n",
    "# Imprimindo o relatório\n",
    "print(report)"
   ]
  },
  {
   "cell_type": "markdown",
   "metadata": {
    "extensions": {
     "jupyter_dashboards": {
      "version": 1,
      "views": {
       "grid_default": {},
       "report_default": {
        "hidden": false
       }
      }
     }
    }
   },
   "source": [
    "#### Nosso modelo possui uma acurácia de 88%. Ou seja uma probabilidade de 88% que um municipio ser classificado corretamente."
   ]
  },
  {
   "cell_type": "markdown",
   "metadata": {
    "extensions": {
     "jupyter_dashboards": {
      "version": 1,
      "views": {
       "grid_default": {},
       "report_default": {
        "hidden": false
       }
      }
     }
    }
   },
   "source": [
    "## FIM"
   ]
  }
 ],
 "metadata": {
  "anaconda-cloud": {},
  "extensions": {
   "jupyter_dashboards": {
    "activeView": "report_default",
    "version": 1,
    "views": {
     "grid_default": {
      "name": "grid",
      "type": "grid"
     },
     "report_default": {
      "name": "report",
      "type": "report"
     }
    }
   }
  },
  "kernelspec": {
   "display_name": "Python 3",
   "language": "python",
   "name": "python3"
  },
  "language_info": {
   "codemirror_mode": {
    "name": "ipython",
    "version": 3
   },
   "file_extension": ".py",
   "mimetype": "text/x-python",
   "name": "python",
   "nbconvert_exporter": "python",
   "pygments_lexer": "ipython3",
   "version": "3.7.6"
  }
 },
 "nbformat": 4,
 "nbformat_minor": 1
}
